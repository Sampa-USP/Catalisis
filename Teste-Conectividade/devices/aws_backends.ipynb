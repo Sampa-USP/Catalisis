{
 "cells": [
  {
   "cell_type": "markdown",
   "id": "b29d8cca-5327-4a53-869c-04a6842eec16",
   "metadata": {},
   "source": [
    "### AWS login"
   ]
  },
  {
   "cell_type": "code",
   "execution_count": 4,
   "id": "ca4f6e51-8ac0-42ea-a211-42640a74afa0",
   "metadata": {},
   "outputs": [],
   "source": [
    "from boto3 import Session\n",
    "from braket.aws import AwsSession\n",
    "\n",
    "# Start Boto3 Session with your credentials profile\n",
    "boto_session = Session(profile_name=\"default\")\n",
    "\n",
    "# Initialize Braket session with Boto3 Session credentials\n",
    "aws_session = AwsSession(boto_session=boto_session)"
   ]
  },
  {
   "cell_type": "markdown",
   "id": "9449ee7b-746e-4d9c-8eca-11d908054820",
   "metadata": {},
   "source": [
    "# Consultando Backends Disponíveis - Computadores Quânticos e Simuladores"
   ]
  },
  {
   "cell_type": "code",
   "execution_count": 23,
   "id": "bb62d3e2-c0ba-480e-b4d7-228bc26a16f2",
   "metadata": {},
   "outputs": [
    {
     "name": "stdout",
     "output_type": "stream",
     "text": [
      "Dispositivos disponíveis na AWS Braket:\n",
      "0: Nome: Ankaa-3, Tipo: AwsDeviceType.QPU, ARN: arn:aws:braket:us-west-1::device/qpu/rigetti/Ankaa-3\n",
      "1: Nome: Aquila, Tipo: AwsDeviceType.QPU, ARN: arn:aws:braket:us-east-1::device/qpu/quera/Aquila\n",
      "2: Nome: Aria 1, Tipo: AwsDeviceType.QPU, ARN: arn:aws:braket:us-east-1::device/qpu/ionq/Aria-1\n",
      "3: Nome: Aria 2, Tipo: AwsDeviceType.QPU, ARN: arn:aws:braket:us-east-1::device/qpu/ionq/Aria-2\n",
      "4: Nome: Forte 1, Tipo: AwsDeviceType.QPU, ARN: arn:aws:braket:us-east-1::device/qpu/ionq/Forte-1\n",
      "5: Nome: Garnet, Tipo: AwsDeviceType.QPU, ARN: arn:aws:braket:eu-north-1::device/qpu/iqm/Garnet\n",
      "6: Nome: SV1, Tipo: AwsDeviceType.SIMULATOR, ARN: arn:aws:braket:::device/quantum-simulator/amazon/sv1\n",
      "7: Nome: TN1, Tipo: AwsDeviceType.SIMULATOR, ARN: arn:aws:braket:::device/quantum-simulator/amazon/tn1\n",
      "8: Nome: dm1, Tipo: AwsDeviceType.SIMULATOR, ARN: arn:aws:braket:::device/quantum-simulator/amazon/dm1\n"
     ]
    }
   ],
   "source": [
    "import boto3\n",
    "from enum import Enum\n",
    "from braket.aws import AwsDevice\n",
    "\n",
    "def fetch_available_backends():\n",
    "    \"\"\"Busca todos os dispositivos da AWS Braket e retorna apenas os que estão ONLINE.\"\"\"\n",
    "    try:\n",
    "        # Recupera os dispositivos disponíveis\n",
    "        devices = AwsDevice.get_devices()\n",
    "        print(\"Dispositivos disponíveis na AWS Braket:\")\n",
    "        for idx, device in enumerate(devices):\n",
    "            print(f\"{idx}: Nome: {device.name}, Tipo: {device.type}, ARN: {device.arn}\")\n",
    "        \n",
    "        # Filtra apenas dispositivos que estão \"ONLINE\" e ajusta os nomes\n",
    "        backends_ativos = {\n",
    "            device.name.upper().replace(\" \", \"_\").replace(\"-\", \"_\"): device.arn\n",
    "            for device in devices\n",
    "            if device.status == \"ONLINE\"  # Filtra dispositivos ativos\n",
    "        }\n",
    "\n",
    "        return backends_ativos\n",
    "    except Exception as e:\n",
    "        print(f\"Erro ao buscar dispositivos da AWS: {e}\")\n",
    "        return {}\n",
    "\n",
    "# Buscar backends disponíveis na AWS Braket\n",
    "BACKENDS_DISPONIVEIS = fetch_available_backends()\n",
    "\n",
    "# Criar um Enum dinamicamente com os backends disponíveis\n",
    "Backend = Enum(\"Backend\", BACKENDS_DISPONIVEIS)\n",
    "\n",
    "# Adicionar método para obter um dispositivo AWS válido\n",
    "def get_device(cls, backend_name):\n",
    "    \"\"\"Retorna um objeto AwsDevice correspondente ao backend selecionado, se estiver ativo.\"\"\"\n",
    "    try:\n",
    "        return AwsDevice(cls[backend_name].value)\n",
    "    except KeyError:\n",
    "        raise ValueError(f\"Backend '{backend_name}' não encontrado. Escolha entre: {', '.join(cls.__members__.keys())}\")\n",
    "\n",
    "# Adicionar método ao Enum dinâmico\n",
    "setattr(Backend, \"get_device\", classmethod(get_device))"
   ]
  },
  {
   "cell_type": "code",
   "execution_count": 24,
   "id": "30371f9c-6218-4e72-978e-1468056e5ede",
   "metadata": {},
   "outputs": [
    {
     "name": "stdout",
     "output_type": "stream",
     "text": [
      "Backends ativos: ['ANKAA_3', 'AQUILA', 'ARIA_1', 'FORTE_1', 'GARNET', 'SV1', 'TN1', 'DM1']\n"
     ]
    }
   ],
   "source": [
    "# Listar os backends ativos\n",
    "print(\"Backends ativos:\", list(Backend.__members__.keys()))\n"
   ]
  },
  {
   "cell_type": "code",
   "execution_count": null,
   "id": "280ea6fe-aeae-43f3-b34e-221bac1082a2",
   "metadata": {},
   "outputs": [],
   "source": []
  },
  {
   "cell_type": "code",
   "execution_count": null,
   "id": "849ac24e-2c6a-4db4-93d8-7222dcdfaf42",
   "metadata": {},
   "outputs": [],
   "source": []
  }
 ],
 "metadata": {
  "kernelspec": {
   "display_name": "Python 3 (ipykernel)",
   "language": "python",
   "name": "python3"
  },
  "language_info": {
   "codemirror_mode": {
    "name": "ipython",
    "version": 3
   },
   "file_extension": ".py",
   "mimetype": "text/x-python",
   "name": "python",
   "nbconvert_exporter": "python",
   "pygments_lexer": "ipython3",
   "version": "3.13.1"
  }
 },
 "nbformat": 4,
 "nbformat_minor": 5
}
