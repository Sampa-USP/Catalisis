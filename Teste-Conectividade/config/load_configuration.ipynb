{
 "cells": [
  {
   "cell_type": "markdown",
   "id": "daf22d40-aae2-42d6-b5bc-5643093956c8",
   "metadata": {},
   "source": [
    "### Cria perfis de execução"
   ]
  },
  {
   "cell_type": "code",
   "execution_count": 4,
   "id": "fef0ec98-eb05-4bb4-8899-88ea1490d12b",
   "metadata": {},
   "outputs": [],
   "source": [
    "from enum import Enum\n",
    "\n",
    "class ConfigProfile(Enum):\n",
    "    CONECTIVIDADE = \"perfil_1-conectividade\"\n",
    "    TESTE = \"perfil_2-teste\"\n",
    "    EXECUTION = \"perfil_3-execution\"\n",
    "\n",
    "    @classmethod\n",
    "    def list_profiles(cls):\n",
    "        \"\"\"Retorna uma lista dos nomes de perfis disponíveis.\"\"\"\n",
    "        return [profile.value for profile in cls]\n"
   ]
  },
  {
   "cell_type": "markdown",
   "id": "27fc2671-acb9-4f92-bae4-89679f7191fd",
   "metadata": {},
   "source": [
    "### Carregando Parametros de execução"
   ]
  },
  {
   "cell_type": "code",
   "execution_count": 5,
   "id": "08c5617f-9e55-46d8-9361-0873acd1c4d4",
   "metadata": {},
   "outputs": [],
   "source": [
    "import json\n",
    "import os\n",
    "\n",
    "def load_config(profile):\n",
    "    \"\"\"Carrega um arquivo de configuração JSON baseado no perfil fornecido.\"\"\"\n",
    "\n",
    "    # Obtém o diretório do notebook principal que está rodando\n",
    "    base_dir = os.getcwd()\n",
    "\n",
    "    # Define a pasta onde os arquivos JSON estão localizados (`config/`)\n",
    "    config_folder = os.path.join(base_dir, \"config\")\n",
    "\n",
    "    # Constrói o caminho correto dentro da pasta `config/`\n",
    "    config_path = os.path.join(config_folder, f\"{profile.value}.json\")\n",
    "\n",
    "    # Verifica se o arquivo existe antes de tentar abrir\n",
    "    if not os.path.exists(config_path):\n",
    "        raise FileNotFoundError(f\"Perfil '{profile.value}' não encontrado em {config_path}\")\n",
    "\n",
    "    with open(config_path, \"r\") as file:\n",
    "        return json.load(file)\n",
    "\n"
   ]
  },
  {
   "cell_type": "code",
   "execution_count": 7,
   "id": "e61027bd-7f8f-4174-9a32-0e04758d92ac",
   "metadata": {},
   "outputs": [],
   "source": []
  }
 ],
 "metadata": {
  "kernelspec": {
   "display_name": "Python 3 (ipykernel)",
   "language": "python",
   "name": "python3"
  },
  "language_info": {
   "codemirror_mode": {
    "name": "ipython",
    "version": 3
   },
   "file_extension": ".py",
   "mimetype": "text/x-python",
   "name": "python",
   "nbconvert_exporter": "python",
   "pygments_lexer": "ipython3",
   "version": "3.10.12"
  }
 },
 "nbformat": 4,
 "nbformat_minor": 5
}
