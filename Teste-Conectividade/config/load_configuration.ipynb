{
 "cells": [
  {
   "cell_type": "markdown",
   "id": "daf22d40-aae2-42d6-b5bc-5643093956c8",
   "metadata": {},
   "source": [
    "### Cria perfis de execução"
   ]
  },
  {
   "cell_type": "code",
   "execution_count": 2,
   "id": "fef0ec98-eb05-4bb4-8899-88ea1490d12b",
   "metadata": {},
   "outputs": [],
   "source": [
    "from enum import Enum\n",
    "\n",
    "class ConfigProfile(Enum):\n",
    "    CONECTIVIDADE = \"perfil_1-conectividade\"\n",
    "    TESTE = \"perfil_2-teste\"\n",
    "    EXECUTION = \"perfil_3-execution\"\n",
    "\n",
    "    @classmethod\n",
    "    def list_profiles(cls):\n",
    "        \"\"\"Retorna uma lista dos nomes de perfis disponíveis.\"\"\"\n",
    "        return [profile.value for profile in cls]\n"
   ]
  },
  {
   "cell_type": "markdown",
   "id": "27fc2671-acb9-4f92-bae4-89679f7191fd",
   "metadata": {},
   "source": [
    "### Carregando Parametros de execução"
   ]
  },
  {
   "cell_type": "code",
   "execution_count": 8,
   "id": "08c5617f-9e55-46d8-9361-0873acd1c4d4",
   "metadata": {},
   "outputs": [],
   "source": [
    "import json\n",
    "import os\n",
    "\n",
    "def load_config(profile):\n",
    "    \"\"\"Carrega um arquivo de configuração JSON baseado no perfil fornecido, garantindo que o caminho seja correto.\"\"\"\n",
    "\n",
    "    # Obtém o diretório onde o notebook está salvo\n",
    "    current_dir = os.path.abspath(\"\")  # O diretório atual do Jupyter Notebook\n",
    "\n",
    "    # Constrói o caminho correto para o arquivo JSON dentro desse diretório\n",
    "    config_path = os.path.join(current_dir, f\"{profile.value}.json\")\n",
    "\n",
    "    # Verifica se o arquivo existe antes de tentar abrir\n",
    "    if not os.path.exists(config_path):\n",
    "        raise FileNotFoundError(f\"Perfil '{profile.value}' não encontrado em {config_path}\")\n",
    "\n",
    "    with open(config_path, \"r\") as file:\n",
    "        return json.load(file)\n",
    "\n"
   ]
  },
  {
   "cell_type": "code",
   "execution_count": 9,
   "id": "2052edf1-1d6d-41c8-882b-efc66265d85b",
   "metadata": {},
   "outputs": [
    {
     "name": "stdout",
     "output_type": "stream",
     "text": [
      "Arquivos na pasta: ['perfil_2-teste.json', 'perfil_3-execution.json', 'perfil_1-conectividade.json', '.ipynb_checkpoints', 'load_configuration.ipynb']\n",
      "Configuração carregada para CONECTIVIDADE: {'shots': 1}\n",
      "Configuração carregada para TESTE: {'shots': 100}\n",
      "Configuração carregada para EXECUTION: {'shots': 1000}\n"
     ]
    }
   ],
   "source": [
    "import os\n",
    "import json\n",
    "\n",
    "# Lista os arquivos no diretório atual\n",
    "print(\"Arquivos na pasta:\", os.listdir(\".\"))\n",
    "\n",
    "# Testa carregar cada perfil\n",
    "for profile in ConfigProfile:\n",
    "    try:\n",
    "        config = load_config(profile)\n",
    "        print(f\"Configuração carregada para {profile.name}: {config}\")\n",
    "    except FileNotFoundError as e:\n",
    "        print(f\"Erro ao carregar {profile.name}: {e}\")\n"
   ]
  },
  {
   "cell_type": "code",
   "execution_count": null,
   "id": "7dd36f4c-6f16-4ea7-8708-2f5c4b4c847c",
   "metadata": {},
   "outputs": [],
   "source": []
  }
 ],
 "metadata": {
  "kernelspec": {
   "display_name": "Python 3 (ipykernel)",
   "language": "python",
   "name": "python3"
  },
  "language_info": {
   "codemirror_mode": {
    "name": "ipython",
    "version": 3
   },
   "file_extension": ".py",
   "mimetype": "text/x-python",
   "name": "python",
   "nbconvert_exporter": "python",
   "pygments_lexer": "ipython3",
   "version": "3.13.1"
  }
 },
 "nbformat": 4,
 "nbformat_minor": 5
}
