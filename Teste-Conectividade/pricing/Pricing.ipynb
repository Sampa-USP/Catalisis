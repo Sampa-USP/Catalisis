{
 "cells": [
  {
   "cell_type": "code",
   "execution_count": 1,
   "id": "525fb1fd-b760-46ac-a59e-d15e0d054d8a",
   "metadata": {},
   "outputs": [],
   "source": [
    "# Dicionário com os preços das QPUs conforme a tabela\n",
    "QPU_PRICING = {\n",
    "    \"Forte\": {\"task\": 0.30, \"shot\": 0.08000},\n",
    "    \"Aria\": {\"task\": 0.30, \"shot\": 0.03000},\n",
    "    \"Garnet\": {\"task\": 0.30, \"shot\": 0.00145},\n",
    "    \"Aquila\": {\"task\": 0.30, \"shot\": 0.01000},\n",
    "    \"Ankaa\": {\"task\": 0.30, \"shot\": 0.00090}\n",
    "}"
   ]
  },
  {
   "cell_type": "code",
   "execution_count": 2,
   "id": "9f65342c-9803-4e49-8ee0-d1c92a615465",
   "metadata": {},
   "outputs": [],
   "source": [
    "def print_qpu_pricing():\n",
    "    \"\"\"Imprime a tabela de preços das QPUs formatada.\"\"\"\n",
    "    print(\"\\n📋 Tabela de Preços das QPUs:\")\n",
    "    print(f\"{'Família de QPU':<10} | {'Preço por Tarefa (USD)':<22} | {'Preço por Shot (USD)':<20}\")\n",
    "    print(\"-\" * 60)\n",
    "    \n",
    "    for qpu, prices in QPU_PRICING.items():\n",
    "        print(f\"{qpu:<10} | ${prices['task']:<20.5f} | ${prices['shot']:<20.5f}\")\n",
    "    \n",
    "    print(\"-\" * 60)"
   ]
  },
  {
   "cell_type": "code",
   "execution_count": 3,
   "id": "05981f83-0489-4456-8f56-8656963ebf35",
   "metadata": {},
   "outputs": [
    {
     "name": "stdout",
     "output_type": "stream",
     "text": [
      "\n",
      "📋 Tabela de Preços das QPUs:\n",
      "Família de QPU | Preço por Tarefa (USD) | Preço por Shot (USD)\n",
      "------------------------------------------------------------\n",
      "Forte      | $0.30000              | $0.08000             \n",
      "Aria       | $0.30000              | $0.03000             \n",
      "Garnet     | $0.30000              | $0.00145             \n",
      "Aquila     | $0.30000              | $0.01000             \n",
      "Ankaa      | $0.30000              | $0.00090             \n",
      "------------------------------------------------------------\n"
     ]
    }
   ],
   "source": [
    "# Chamar a função para imprimir os preços quando o código for executado\n",
    "print_qpu_pricing()"
   ]
  },
  {
   "cell_type": "code",
   "execution_count": 6,
   "id": "6fe6b315-e00f-46d1-b1ff-1481102d5e02",
   "metadata": {},
   "outputs": [],
   "source": [
    "def estimate_cost(backend, shots):\n",
    "    \"\"\"Estima o custo de execução apenas para QPUs, com base na tabela de preços.\"\"\"\n",
    "    try:\n",
    "        device = AwsDevice(backend.value)\n",
    "\n",
    "        if shots <= 100:\n",
    "            return None  # Se shots menor que 100, não calcula custo\n",
    "        if device.type == \"SIMULATOR\":\n",
    "            return 0  # Simuladores não exigem estimativa\n",
    "\n",
    "        # Identificar o nome do backend na tabela (exemplo: \"Aria 1\" -> \"Aria\")\n",
    "        qpu_family = next((key for key in QPU_PRICING if key in device.name), None)\n",
    "\n",
    "        if qpu_family:\n",
    "            cost_per_task = QPU_PRICING[qpu_family][\"task\"]\n",
    "            cost_per_shot = QPU_PRICING[qpu_family][\"shot\"]\n",
    "            estimated_cost = cost_per_task + (cost_per_shot * shots)\n",
    "            return round(estimated_cost, 2) \n",
    "        else:\n",
    "            print(f\"⚠️ QPU '{device.name}' não encontrada na tabela de preços.\")\n",
    "            return None\n",
    "\n",
    "    except Exception as e:\n",
    "        print(f\"Erro ao estimar custo: {e}\")\n",
    "        return None"
   ]
  },
  {
   "cell_type": "code",
   "execution_count": null,
   "id": "71edc61f-2cd5-42be-8e71-ddc139c569a4",
   "metadata": {},
   "outputs": [],
   "source": []
  }
 ],
 "metadata": {
  "kernelspec": {
   "display_name": "Python 3 (ipykernel)",
   "language": "python",
   "name": "python3"
  },
  "language_info": {
   "codemirror_mode": {
    "name": "ipython",
    "version": 3
   },
   "file_extension": ".py",
   "mimetype": "text/x-python",
   "name": "python",
   "nbconvert_exporter": "python",
   "pygments_lexer": "ipython3",
   "version": "3.13.1"
  }
 },
 "nbformat": 4,
 "nbformat_minor": 5
}
