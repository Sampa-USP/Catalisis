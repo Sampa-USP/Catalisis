{
 "cells": [
  {
   "cell_type": "markdown",
   "id": "5f2d07a2-cfa5-49a0-89aa-a830341c1b6a",
   "metadata": {},
   "source": [
    "<div class=\"alert alert-block alert-success\">\n",
    "<b># 🚀 Execução de Circuitos na AWS Braket  \n",
    "\n",
    "Este notebook permite **executar circuitos quânticos** na **AWS Braket**, com controle de **parâmetros e custos**.  \n",
    "\n",
    "---\n",
    "\n",
    "## 🔹 Configuração de Perfis  \n",
    "Os seguintes **perfis** de execução estão disponíveis:  \n",
    "- **CONECTIVIDADE** → Teste rápido com poucos shots.  \n",
    "- **TESTE** → Simulação intermediária.  \n",
    "- **EXECUTION** → Execução completa (**com alerta de custo se `shots > 100`**).  \n",
    "\n",
    "Cada perfil carrega **parâmetros de configuração** de um arquivo `.json`.  \n",
    "\n",
    "**Exemplo de Seleção:**  \n",
    "```python\n",
    "perfil = ConfigProfile.EXECUTION\n",
    "```\n",
    "\n",
    "---\n",
    "\n",
    "## 🔹 Seleção de Backend  \n",
    "Os **dispositivos disponíveis na AWS Braket** são carregados dinamicamente.  \n",
    "Eles são armazenados no `Enum Backend`.  \n",
    "\n",
    "**Exemplo de Seleção de Backend:**  \n",
    "```python\n",
    "backend = Backend.ARIA_1 \n",
    "```\n",
    "\n",
    "---\n",
    "\n",
    "## 🔹 Estimativa de Custo 💰  \n",
    "- **Apenas para EXECUTION e shots > 100.**  \n",
    "- O custo é calculado com base na **tabela oficial da AWS** (**task + preço por shot**).  \n",
    "- O usuário precisa **confirmar** antes da execução.  \n",
    "\n",
    "Se `shots <= 100`, o código **executa direto sem alerta**.  \n",
    "\n",
    "---\n",
    "\n",
    "## 🔹 Modos de Execução  \n",
    "\n",
    "### **✔ Síncrono (`run_circuit_sync`)**\n",
    "- Aguarda o resultado **antes de prosseguir**.  \n",
    "- Exibe **estatísticas e custo real após a execução**.  \n",
    "\n",
    "**Exemplo:**  \n",
    "```python\n",
    "resultados = run_circuit_sync(perfil, backend, circuit)\n",
    "print(\"Resultados:\", resultados)\n",
    "```\n",
    "\n",
    "### **✔ Assíncrono (`run_circuit_async`)**\n",
    "- Retorna um **ARN da task** imediatamente.  \n",
    "- Permite **monitoramento posterior**.  \n",
    "\n",
    "**Exemplo:**  \n",
    "```python\n",
    "task_arn = run_circuit_async(perfil, backend, circuit)\n",
    "print(\"Task ARN:\", task_arn)\n",
    "```\n",
    "\n",
    "---\n",
    "\n",
    "## 🔹 Monitoramento de Tasks  \n",
    "O status da execução pode ser verificado manualmente com:  \n",
    "```python\n",
    "check_task_status(task_arn)\n",
    "```\n",
    "\n",
    "Ou acompanhar automaticamente em um **loop**, esperando a finalização:  \n",
    "```python\n",
    "wait_for_task_completion(task_arn)\n",
    "```\n",
    "\n",
    "---\n",
    "\n",
    "## **🔹 Fluxo Completo**\n",
    "1️⃣ **Escolher perfil e backend:**  \n",
    "```python\n",
    "perfil = ConfigProfile.EXECUTION\n",
    "backend = Backend.AQUILA\n",
    "circuit = create_circuit()\n",
    "```\n",
    "\n",
    "2️⃣ **Executar circuito (Síncrono ou Assíncrono):**  \n",
    "```python\n",
    "task_arn = run_circuit_async(perfil, backend, circuit)  # Assíncrono\n",
    "```\n",
    "\n",
    "3️⃣ **Acompanhar a execução:**  \n",
    "```python\n",
    "wait_for_task_completion(task_arn)\n",
    "```\n",
    "\n",
    "---\n",
    "\n",
    "✅ **Agora você pode rodar circuitos quânticos de forma segura, eficiente e escalável na AWS Braket!** 🚀🔥  \n",
    " </b>\n",
    "</div>\n",
    "\n",
    "# Instructions if you are running outside AWS cloud\n",
    "\n",
    "1. Install aws-cli:\n",
    "\n",
    "`sudo apt install aws-cli`\n",
    "\n",
    "2. Setup aws credentials:\n",
    "\n",
    "`aws configure --profile \"default\"`\n",
    "\n",
    "3. Create virtual environment \n",
    "\n",
    "`python -m venv /path/to/new/virtual/environment`\n",
    "\n",
    "4. Activate virtual environment\n",
    "\n",
    "`source /path/to/new/virtual/environment/bin/activate`"
   ]
  },
  {
   "cell_type": "markdown",
   "id": "86aea144-7f9d-4f2b-ab70-484e6a386024",
   "metadata": {},
   "source": [
    "### Instalando e Atualizando Dependencias"
   ]
  },
  {
   "cell_type": "code",
   "execution_count": 1,
   "id": "fbd36374-0f59-4500-a624-4d6ae0f471ed",
   "metadata": {},
   "outputs": [
    {
     "name": "stdout",
     "output_type": "stream",
     "text": [
      "Successfully installed amazon-braket-default-simulator-1.26.4 amazon-braket-schemas-1.23.2 amazon-braket-sdk-1.90.2 annotated-types-0.7.0 antlr4-python3-runtime-4.9.2 backoff-2.2.1 backports.entry-points-selectable-1.3.0 boltons-25.0.0 boto3-1.37.11 botocore-1.37.11 cloudpickle-2.2.1 jmespath-1.0.1 mpmath-1.3.0 mypy-extensions-1.0.0 networkx-3.4.2 numpy-2.2.3 openpulse-1.0.1 openqasm3-1.0.1 opt_einsum-3.4.0 oqpy-0.3.7 pydantic-2.10.6 pydantic_core-2.27.2 s3transfer-0.11.4 scipy-1.15.2 sympy-1.13.3\n",
      "\n",
      "\u001b[1m[\u001b[0m\u001b[34;49mnotice\u001b[0m\u001b[1;39;49m]\u001b[0m\u001b[39;49m A new release of pip is available: \u001b[0m\u001b[31;49m24.3.1\u001b[0m\u001b[39;49m -> \u001b[0m\u001b[32;49m25.0.1\u001b[0m\n",
      "\u001b[1m[\u001b[0m\u001b[34;49mnotice\u001b[0m\u001b[1;39;49m]\u001b[0m\u001b[39;49m To update, run: \u001b[0m\u001b[32;49mpip install --upgrade pip\u001b[0m\n"
     ]
    }
   ],
   "source": [
    "# Install this modules on your virtual environment: an open source library for interacting\n",
    "# with quantum computing devices and simulators on Amazon Braket\n",
    "!pip install -r requirements.txt"
   ]
  },
  {
   "cell_type": "code",
   "execution_count": 2,
   "id": "626d5f9f-27ea-4677-bb86-ae91e68068f2",
   "metadata": {},
   "outputs": [],
   "source": [
    "# Para atualizar as dependencias, caso tenha sido incluidas novas bibliotecas no projeto\n",
    "!pip freeze > requirements.txt"
   ]
  },
  {
   "cell_type": "markdown",
   "id": "e6b29ffd-ac58-49bf-872f-0e701e1b9604",
   "metadata": {},
   "source": [
    "### Importando classes de inicialização de configuração, devices, pricing e execution"
   ]
  },
  {
   "cell_type": "code",
   "execution_count": 2,
   "id": "c2dc2318-92d7-4a92-908e-652f574b29f4",
   "metadata": {},
   "outputs": [
    {
     "name": "stdout",
     "output_type": "stream",
     "text": [
      "Dispositivos disponíveis na AWS Braket:\n",
      "0: Nome: Ankaa-3, Tipo: AwsDeviceType.QPU, ARN: arn:aws:braket:us-west-1::device/qpu/rigetti/Ankaa-3\n",
      "1: Nome: Aquila, Tipo: AwsDeviceType.QPU, ARN: arn:aws:braket:us-east-1::device/qpu/quera/Aquila\n",
      "2: Nome: Aria 1, Tipo: AwsDeviceType.QPU, ARN: arn:aws:braket:us-east-1::device/qpu/ionq/Aria-1\n",
      "3: Nome: Aria 2, Tipo: AwsDeviceType.QPU, ARN: arn:aws:braket:us-east-1::device/qpu/ionq/Aria-2\n",
      "4: Nome: Forte 1, Tipo: AwsDeviceType.QPU, ARN: arn:aws:braket:us-east-1::device/qpu/ionq/Forte-1\n",
      "5: Nome: Garnet, Tipo: AwsDeviceType.QPU, ARN: arn:aws:braket:eu-north-1::device/qpu/iqm/Garnet\n",
      "6: Nome: SV1, Tipo: AwsDeviceType.SIMULATOR, ARN: arn:aws:braket:::device/quantum-simulator/amazon/sv1\n",
      "7: Nome: TN1, Tipo: AwsDeviceType.SIMULATOR, ARN: arn:aws:braket:::device/quantum-simulator/amazon/tn1\n",
      "8: Nome: dm1, Tipo: AwsDeviceType.SIMULATOR, ARN: arn:aws:braket:::device/quantum-simulator/amazon/dm1\n",
      "Backends ativos: ['ANKAA_3', 'AQUILA', 'ARIA_1', 'FORTE_1', 'GARNET', 'SV1', 'TN1', 'DM1']\n"
     ]
    }
   ],
   "source": [
    "%run devices/aws_backends.ipynb"
   ]
  },
  {
   "cell_type": "code",
   "execution_count": 3,
   "id": "42ff417d-bf64-410c-bab5-22cb58f4244e",
   "metadata": {},
   "outputs": [],
   "source": [
    "%run config/load_configuration.ipynb"
   ]
  },
  {
   "cell_type": "code",
   "execution_count": 4,
   "id": "b1402d50-9c59-48ba-aee3-6dbbdfba7b42",
   "metadata": {},
   "outputs": [
    {
     "name": "stdout",
     "output_type": "stream",
     "text": [
      "\n",
      "📋 Tabela de Preços das QPUs:\n",
      "Família de QPU | Preço por Tarefa (USD) | Preço por Shot (USD)\n",
      "------------------------------------------------------------\n",
      "Forte      | $0.30000              | $0.08000             \n",
      "Aria       | $0.30000              | $0.03000             \n",
      "Garnet     | $0.30000              | $0.00145             \n",
      "Aquila     | $0.30000              | $0.01000             \n",
      "Ankaa      | $0.30000              | $0.00090             \n",
      "------------------------------------------------------------\n"
     ]
    }
   ],
   "source": [
    "%run pricing/Pricing.ipynb"
   ]
  },
  {
   "cell_type": "code",
   "execution_count": 9,
   "id": "aebf2608-4d7a-4d19-b28c-f3f8649f6fca",
   "metadata": {},
   "outputs": [],
   "source": [
    "%run execution/Execution.ipynb"
   ]
  },
  {
   "cell_type": "markdown",
   "id": "beb0868e-0f7e-41ee-8ca7-52ebdf95ac22",
   "metadata": {},
   "source": [
    "### Criando o Circuito Quântico"
   ]
  },
  {
   "cell_type": "code",
   "execution_count": 5,
   "id": "1563a653-23eb-406f-a25e-9a1d4b77e025",
   "metadata": {},
   "outputs": [],
   "source": [
    "from braket.circuits import Circuit\n",
    "\n",
    "def create_circuit():\n",
    "    \"\"\"Cria um circuito de Bell e retorna o objeto Circuit.\"\"\"\n",
    "    circuit = Circuit().h(0).cnot(0, 1).measure(0).measure(1)\n",
    "    return circuit"
   ]
  },
  {
   "cell_type": "markdown",
   "id": "9a0d1c51-5b9f-4d19-9d6d-61fd756510c4",
   "metadata": {},
   "source": [
    "### Escolhendo o Backend "
   ]
  },
  {
   "cell_type": "code",
   "execution_count": 6,
   "id": "ecc3e3f1-1b11-4a0d-8e79-500b5315b11d",
   "metadata": {},
   "outputs": [
    {
     "name": "stdout",
     "output_type": "stream",
     "text": [
      "Backends ativos: ['ANKAA_3', 'AQUILA', 'ARIA_1', 'FORTE_1', 'GARNET', 'SV1', 'TN1', 'DM1']\n"
     ]
    }
   ],
   "source": [
    "# Listar backends ativos\n",
    "print(\"Backends ativos:\", list(Backend.__members__.keys()))"
   ]
  },
  {
   "cell_type": "markdown",
   "id": "39e4a9d9-2dfa-474b-b3f6-5febacd14a9c",
   "metadata": {},
   "source": [
    "### Definição dos parâmetros perfil, backend e circuito "
   ]
  },
  {
   "cell_type": "code",
   "execution_count": 11,
   "id": "5fd9a5ee-934d-455a-85b6-a0673a39dfa1",
   "metadata": {},
   "outputs": [],
   "source": [
    "# Escolha o perfil desejado\n",
    "perfil = ConfigProfile.CONECTIVIDADE  # Pode ser: ConfigProfile.CONECTIVIDADE, ConfigProfile.TESTE, ConfigProfile.EXECUTION\n",
    "\n",
    "# Escolher um backend específico\n",
    "backend = Backend.SV1  # Por exemplo, selecionar o simulador SV1\n",
    "\n",
    "# Criar um circuito\n",
    "circuit = create_circuit()"
   ]
  },
  {
   "cell_type": "markdown",
   "id": "2236b435-121f-4181-a7be-9fc39e864966",
   "metadata": {},
   "source": [
    "### Testando o código de forma síncrona (fila livre)"
   ]
  },
  {
   "cell_type": "code",
   "execution_count": 12,
   "id": "0ca6ff4c-bc63-4bd5-aa21-e8e4594936fb",
   "metadata": {},
   "outputs": [
    {
     "name": "stdout",
     "output_type": "stream",
     "text": [
      "Executando (SÍNCRONO) com 1 shots no perfil 'perfil_1-conectividade' no backend 'SV1'\n",
      "📊 Estatísticas de Uso: {'arn:aws:braket:::device/quantum-simulator/amazon/sv1': {'shots': 1, 'tasks': {'COMPLETED': 1}, 'execution_duration': datetime.timedelta(microseconds=2000), 'billed_execution_duration': datetime.timedelta(seconds=3)}}\n",
      "💰 Custo real: $0.003750\n"
     ]
    },
    {
     "data": {
      "text/plain": [
       "Counter({'00': 1})"
      ]
     },
     "execution_count": 12,
     "metadata": {},
     "output_type": "execute_result"
    }
   ],
   "source": [
    "# Executar o circuito com o perfil e backend selecionados\n",
    "run_circuit_sync(perfil, backend, circuit)"
   ]
  },
  {
   "cell_type": "markdown",
   "id": "1d942c96-7fc6-4e7d-8650-23a0e2f6f09b",
   "metadata": {},
   "source": [
    "### Testando o código de forma assíncrona (fila ocupada)"
   ]
  },
  {
   "cell_type": "code",
   "execution_count": 13,
   "id": "ba3b23bb-c109-4a52-a879-7a9cdd88cfff",
   "metadata": {},
   "outputs": [
    {
     "name": "stdout",
     "output_type": "stream",
     "text": [
      "Executando (ASSÍNCRONO) com 1 shots no perfil 'perfil_1-conectividade' no backend 'SV1'\n",
      "📌 Task ARN: arn:aws:braket:us-east-1:709381776175:quantum-task/6f214b68-ae02-4e0a-90b5-487d343b3a52\n",
      "Task ARN recebida: arn:aws:braket:us-east-1:709381776175:quantum-task/6f214b68-ae02-4e0a-90b5-487d343b3a52\n"
     ]
    }
   ],
   "source": [
    "# Executar o circuito com o perfil e backend selecionados mas de forma assincrona\n",
    "task_arn = run_circuit_async(perfil, backend, circuit)\n",
    "print(\"Task ARN recebida:\", task_arn)"
   ]
  },
  {
   "cell_type": "code",
   "execution_count": 14,
   "id": "4318ca65-255f-4ae1-b36a-3d570eff7c73",
   "metadata": {},
   "outputs": [
    {
     "name": "stdout",
     "output_type": "stream",
     "text": [
      "🕒 Aguardando conclusão da Task arn:aws:braket:us-east-1:709381776175:quantum-task/6f214b68-ae02-4e0a-90b5-487d343b3a52...\n",
      "🔄 Status da Task arn:aws:braket:us-east-1:709381776175:quantum-task/6f214b68-ae02-4e0a-90b5-487d343b3a52: COMPLETED\n",
      "✅ Execução completa! Resultados: Counter({'00': 1})\n"
     ]
    }
   ],
   "source": [
    "wait_for_task_completion(task_arn)"
   ]
  },
  {
   "cell_type": "code",
   "execution_count": null,
   "id": "9be70dfe-17ab-4503-b4d9-2ba9af927ed3",
   "metadata": {},
   "outputs": [],
   "source": []
  }
 ],
 "metadata": {
  "kernelspec": {
   "display_name": "Python 3 (ipykernel)",
   "language": "python",
   "name": "python3"
  },
  "language_info": {
   "codemirror_mode": {
    "name": "ipython",
    "version": 3
   },
   "file_extension": ".py",
   "mimetype": "text/x-python",
   "name": "python",
   "nbconvert_exporter": "python",
   "pygments_lexer": "ipython3",
   "version": "3.13.1"
  }
 },
 "nbformat": 4,
 "nbformat_minor": 5
}
