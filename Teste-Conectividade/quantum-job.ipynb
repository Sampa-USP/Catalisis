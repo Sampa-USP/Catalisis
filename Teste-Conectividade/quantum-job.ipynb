{
 "cells": [
  {
   "cell_type": "markdown",
   "id": "5f2d07a2-cfa5-49a0-89aa-a830341c1b6a",
   "metadata": {},
   "source": [
    "<div class=\"alert alert-block alert-success\">\n",
    "<b>This simulation runs a circuit with a varying number of gates for the purpose of detecting depolarization error. </b>\n",
    "<div>Obs. 1: The data is saved in external files so that it can be worked on without incurring new costs.</div>\n",
    "<div>Obs. 2: For new simulation parameters, save in a file with a different name.</div>\n",
    "</div>\n",
    "\n",
    "# Instructions if you are running outside AWS cloud\n",
    "\n",
    "1. Install aws-cli:\n",
    "\n",
    "`sudo apt install aws-cli`\n",
    "\n",
    "2. Setup aws credentials:\n",
    "\n",
    "`aws configure --profile \"default\"`\n",
    "\n",
    "3. Create virtual environment \n",
    "\n",
    "`python -m venv /path/to/new/virtual/environment`\n",
    "\n",
    "4. Activate virtual environment\n",
    "\n",
    "`source /path/to/new/virtual/environment/bin/activate`"
   ]
  },
  {
   "cell_type": "markdown",
   "id": "86aea144-7f9d-4f2b-ab70-484e6a386024",
   "metadata": {},
   "source": [
    "### Instalando e Atualizando Dependencias"
   ]
  },
  {
   "cell_type": "code",
   "execution_count": null,
   "id": "fbd36374-0f59-4500-a624-4d6ae0f471ed",
   "metadata": {},
   "outputs": [],
   "source": [
    "# Install this modules on your virtual environment: an open source library for interacting\n",
    "# with quantum computing devices and simulators on Amazon Braket\n",
    "!pip install -r requirements.txt"
   ]
  },
  {
   "cell_type": "code",
   "execution_count": 32,
   "id": "626d5f9f-27ea-4677-bb86-ae91e68068f2",
   "metadata": {},
   "outputs": [],
   "source": [
    "# Para atualizar as dependencias, caso tenha sido incluidas novas bibliotecas no projeto\n",
    "!pip freeze > requirements.txt"
   ]
  },
  {
   "cell_type": "markdown",
   "id": "e6b29ffd-ac58-49bf-872f-0e701e1b9604",
   "metadata": {},
   "source": [
    "### Importando classes de inicialização de configuração, devices e pricing"
   ]
  },
  {
   "cell_type": "code",
   "execution_count": 9,
   "id": "c2dc2318-92d7-4a92-908e-652f574b29f4",
   "metadata": {},
   "outputs": [
    {
     "name": "stdout",
     "output_type": "stream",
     "text": [
      "Dispositivos disponíveis na AWS Braket:\n",
      "0: Nome: Ankaa-3, Tipo: AwsDeviceType.QPU, ARN: arn:aws:braket:us-west-1::device/qpu/rigetti/Ankaa-3\n",
      "1: Nome: Aquila, Tipo: AwsDeviceType.QPU, ARN: arn:aws:braket:us-east-1::device/qpu/quera/Aquila\n",
      "2: Nome: Aria 1, Tipo: AwsDeviceType.QPU, ARN: arn:aws:braket:us-east-1::device/qpu/ionq/Aria-1\n",
      "3: Nome: Aria 2, Tipo: AwsDeviceType.QPU, ARN: arn:aws:braket:us-east-1::device/qpu/ionq/Aria-2\n",
      "4: Nome: Forte 1, Tipo: AwsDeviceType.QPU, ARN: arn:aws:braket:us-east-1::device/qpu/ionq/Forte-1\n",
      "5: Nome: Garnet, Tipo: AwsDeviceType.QPU, ARN: arn:aws:braket:eu-north-1::device/qpu/iqm/Garnet\n",
      "6: Nome: SV1, Tipo: AwsDeviceType.SIMULATOR, ARN: arn:aws:braket:::device/quantum-simulator/amazon/sv1\n",
      "7: Nome: TN1, Tipo: AwsDeviceType.SIMULATOR, ARN: arn:aws:braket:::device/quantum-simulator/amazon/tn1\n",
      "8: Nome: dm1, Tipo: AwsDeviceType.SIMULATOR, ARN: arn:aws:braket:::device/quantum-simulator/amazon/dm1\n",
      "Backends ativos: ['ANKAA_3', 'AQUILA', 'ARIA 1', 'FORTE 1', 'GARNET', 'SV1', 'TN1', 'DM1']\n"
     ]
    }
   ],
   "source": [
    "%run devices/aws_backends.ipynb"
   ]
  },
  {
   "cell_type": "code",
   "execution_count": 18,
   "id": "42ff417d-bf64-410c-bab5-22cb58f4244e",
   "metadata": {},
   "outputs": [],
   "source": [
    "%run config/load_configuration.ipynb"
   ]
  },
  {
   "cell_type": "code",
   "execution_count": 11,
   "id": "b1402d50-9c59-48ba-aee3-6dbbdfba7b42",
   "metadata": {},
   "outputs": [
    {
     "name": "stdout",
     "output_type": "stream",
     "text": [
      "\n",
      "📋 Tabela de Preços das QPUs:\n",
      "Família de QPU | Preço por Tarefa (USD) | Preço por Shot (USD)\n",
      "------------------------------------------------------------\n",
      "Forte      | $0.30000              | $0.08000             \n",
      "Aria       | $0.30000              | $0.03000             \n",
      "Garnet     | $0.30000              | $0.00145             \n",
      "Aquila     | $0.30000              | $0.01000             \n",
      "Ankaa      | $0.30000              | $0.00090             \n",
      "------------------------------------------------------------\n"
     ]
    }
   ],
   "source": [
    "%run pricing/Pricing.ipynb"
   ]
  },
  {
   "cell_type": "code",
   "execution_count": 19,
   "id": "aebf2608-4d7a-4d19-b28c-f3f8649f6fca",
   "metadata": {},
   "outputs": [],
   "source": [
    "%run execution/Execution.ipynb"
   ]
  },
  {
   "cell_type": "markdown",
   "id": "beb0868e-0f7e-41ee-8ca7-52ebdf95ac22",
   "metadata": {},
   "source": [
    "### Criando o Circuito Quântico"
   ]
  },
  {
   "cell_type": "code",
   "execution_count": 20,
   "id": "1563a653-23eb-406f-a25e-9a1d4b77e025",
   "metadata": {},
   "outputs": [],
   "source": [
    "from braket.circuits import Circuit\n",
    "\n",
    "def create_circuit():\n",
    "    \"\"\"Cria um circuito de Bell e retorna o objeto Circuit.\"\"\"\n",
    "    circuit = Circuit().h(0).cnot(0, 1).measure(0).measure(1)\n",
    "    return circuit"
   ]
  },
  {
   "cell_type": "markdown",
   "id": "9a0d1c51-5b9f-4d19-9d6d-61fd756510c4",
   "metadata": {},
   "source": [
    "### Escolhendo o Backend "
   ]
  },
  {
   "cell_type": "code",
   "execution_count": 21,
   "id": "ecc3e3f1-1b11-4a0d-8e79-500b5315b11d",
   "metadata": {},
   "outputs": [
    {
     "name": "stdout",
     "output_type": "stream",
     "text": [
      "Backends ativos: ['ANKAA_3', 'AQUILA', 'ARIA 1', 'FORTE 1', 'GARNET', 'SV1', 'TN1', 'DM1']\n"
     ]
    }
   ],
   "source": [
    "# Listar backends ativos\n",
    "print(\"Backends ativos:\", list(Backend.__members__.keys()))"
   ]
  },
  {
   "cell_type": "markdown",
   "id": "39e4a9d9-2dfa-474b-b3f6-5febacd14a9c",
   "metadata": {},
   "source": [
    "### Definição dos parâmetros perfil, backend e circuito "
   ]
  },
  {
   "cell_type": "code",
   "execution_count": 15,
   "id": "5fd9a5ee-934d-455a-85b6-a0673a39dfa1",
   "metadata": {},
   "outputs": [],
   "source": [
    "# Escolha o perfil desejado\n",
    "perfil = ConfigProfile.EXECUTION  # Pode ser: ConfigProfile.CONECTIVIDADE, ConfigProfile.TESTE, ConfigProfile.EXECUTION\n",
    "\n",
    "# Escolher um backend específico\n",
    "backend = Backend.GARNET  # Por exemplo, selecionar o simulador SV1\n",
    "\n",
    "# Criar um circuito\n",
    "circuit = create_circuit()"
   ]
  },
  {
   "cell_type": "markdown",
   "id": "2236b435-121f-4181-a7be-9fc39e864966",
   "metadata": {},
   "source": [
    "### Testando o código de forma síncrona (fila livre)"
   ]
  },
  {
   "cell_type": "code",
   "execution_count": 16,
   "id": "0ca6ff4c-bc63-4bd5-aa21-e8e4594936fb",
   "metadata": {},
   "outputs": [
    {
     "name": "stdout",
     "output_type": "stream",
     "text": [
      "⚠️ Custo estimado: $1.750000\n"
     ]
    },
    {
     "name": "stdin",
     "output_type": "stream",
     "text": [
      "Deseja continuar? (s/n):  n\n"
     ]
    },
    {
     "name": "stdout",
     "output_type": "stream",
     "text": [
      "❌ Execução cancelada pelo usuário.\n"
     ]
    }
   ],
   "source": [
    "# Executar o circuito com o perfil e backend selecionados\n",
    "run_circuit_sync(perfil, backend, circuit)"
   ]
  },
  {
   "cell_type": "markdown",
   "id": "1d942c96-7fc6-4e7d-8650-23a0e2f6f09b",
   "metadata": {},
   "source": [
    "### Testando o código de forma assíncrona (fila ocupada)"
   ]
  },
  {
   "cell_type": "code",
   "execution_count": 31,
   "id": "ba3b23bb-c109-4a52-a879-7a9cdd88cfff",
   "metadata": {},
   "outputs": [
    {
     "name": "stdout",
     "output_type": "stream",
     "text": [
      "Executando (ASSÍNCRONO) com 1 shots no perfil 'perfil_1-conectividade' no backend 'GARNET'\n",
      "📌 Task ARN: arn:aws:braket:eu-north-1:709381776175:quantum-task/89154895-e214-4b08-b706-ad28acac15d2\n",
      "Task ARN recebida: arn:aws:braket:eu-north-1:709381776175:quantum-task/89154895-e214-4b08-b706-ad28acac15d2\n"
     ]
    }
   ],
   "source": [
    "# Executar o circuito com o perfil e backend selecionados mas de forma assincrona\n",
    "task_arn = run_circuit_async(perfil, backend, circuit)\n",
    "print(\"Task ARN recebida:\", task_arn)"
   ]
  },
  {
   "cell_type": "code",
   "execution_count": null,
   "id": "4318ca65-255f-4ae1-b36a-3d570eff7c73",
   "metadata": {},
   "outputs": [],
   "source": []
  }
 ],
 "metadata": {
  "kernelspec": {
   "display_name": "Python 3 (ipykernel)",
   "language": "python",
   "name": "python3"
  },
  "language_info": {
   "codemirror_mode": {
    "name": "ipython",
    "version": 3
   },
   "file_extension": ".py",
   "mimetype": "text/x-python",
   "name": "python",
   "nbconvert_exporter": "python",
   "pygments_lexer": "ipython3",
   "version": "3.13.1"
  }
 },
 "nbformat": 4,
 "nbformat_minor": 5
}
