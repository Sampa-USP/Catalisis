{
 "cells": [
  {
   "cell_type": "code",
   "execution_count": 1,
   "id": "7cbdef67-322d-4057-811c-d5e993060684",
   "metadata": {},
   "outputs": [],
   "source": [
    "from braket.tracking import Tracker"
   ]
  },
  {
   "cell_type": "markdown",
   "id": "9071c2be-d3eb-4cc4-a734-66550935be8d",
   "metadata": {},
   "source": [
    "### Executa circuito síncrono"
   ]
  },
  {
   "cell_type": "code",
   "execution_count": null,
   "id": "8ca4f017-e7f4-4877-91d0-f04dd88be89e",
   "metadata": {},
   "outputs": [],
   "source": [
    "def run_circuit_sync(profile, backend, circuit):\n",
    "    \"\"\"Executa um circuito de forma síncrona e retorna os resultados.\"\"\"\n",
    "    try:\n",
    "        tracker = Tracker()\n",
    "        config = load_config(profile)\n",
    "        shots = config[\"shots\"]\n",
    "\n",
    "        device = AwsDevice(backend.value)\n",
    "\n",
    "        # Só estimamos custo para QPUs\n",
    "        if device.type == \"QPU\":\n",
    "            estimated_cost = estimate_cost(backend, shots)\n",
    "            if estimated_cost is not None:\n",
    "                print(f\"⚠️ Custo estimado: ${estimated_cost:.6f}\")\n",
    "                confirm = input(\"Deseja continuar? (s/n): \").strip().lower()\n",
    "                if confirm != 's':\n",
    "                    print(\"❌ Execução cancelada pelo usuário.\")\n",
    "                    return None\n",
    "\n",
    "        tracker.start()\n",
    "        print(f\"Executando (SÍNCRONO) com {shots} shots no perfil '{profile.value}' no backend '{backend.name}'\")\n",
    "\n",
    "        task = device.run(circuit, shots=shots)\n",
    "        result = task.result()  # Aguarda a execução\n",
    "\n",
    "        tracker.stop()\n",
    "        print(\"📊 Estatísticas de Uso:\", tracker.quantum_tasks_statistics())\n",
    "        print(f\"💰 Custo real: ${tracker.qpu_tasks_cost() + tracker.simulator_tasks_cost():.6f}\")\n",
    "\n",
    "        return result.measurement_counts\n",
    "\n",
    "    except Exception as e:\n",
    "        print(f\"Erro: {e}\")"
   ]
  },
  {
   "cell_type": "markdown",
   "id": "a28d8d49-59f8-4dc3-8365-fb2bbc93891e",
   "metadata": {},
   "source": [
    "### Executa circuito assíncrono"
   ]
  },
  {
   "cell_type": "code",
   "execution_count": null,
   "id": "882ae376-cd25-4b38-9727-a48978183759",
   "metadata": {},
   "outputs": [],
   "source": [
    "def run_circuit_async(profile, backend, circuit):\n",
    "    \"\"\"Executa um circuito de forma assíncrona e retorna o ARN da task.\"\"\"\n",
    "    try:\n",
    "        tracker = Tracker()\n",
    "        config = load_config(profile)\n",
    "        shots = config[\"shots\"]\n",
    "\n",
    "        device = AwsDevice(backend.value)\n",
    "\n",
    "        # Só estimamos custo para QPUs\n",
    "        if device.type == \"QPU\":\n",
    "            estimated_cost = estimate_cost(backend, shots)\n",
    "            if estimated_cost is not None:\n",
    "                print(f\"⚠️ Custo estimado: ${estimated_cost:.6f}\")\n",
    "                confirm = input(\"Deseja continuar? (s/n): \").strip().lower()\n",
    "                if confirm != 's':\n",
    "                    print(\"❌ Execução cancelada pelo usuário.\")\n",
    "                    return None\n",
    "\n",
    "        tracker.start()\n",
    "        print(f\"Executando (ASSÍNCRONO) com {shots} shots no perfil '{profile.value}' no backend '{backend.name}'\")\n",
    "\n",
    "        task = device.run(circuit, shots=shots)\n",
    "        tracker.stop()\n",
    "\n",
    "        print(\"📌 Task ARN:\", task.id)\n",
    "        return task.id  # Retorna o ARN da task para verificação posterior\n",
    "\n",
    "    except Exception as e:\n",
    "        print(f\"Erro: {e}\")"
   ]
  },
  {
   "cell_type": "markdown",
   "id": "4db7d514-4cf3-42b7-8c47-5ece7a52f891",
   "metadata": {},
   "source": [
    "### Checa status task "
   ]
  },
  {
   "cell_type": "code",
   "execution_count": 2,
   "id": "9d159fb5-1575-4190-9968-c4edb16e6a46",
   "metadata": {},
   "outputs": [],
   "source": [
    "def check_task_status(task_arn):\n",
    "    \"\"\"Verifica o status da task e retorna o resultado se estiver pronto.\"\"\"\n",
    "    try:\n",
    "        task = AwsDevice.get_task(task_arn)\n",
    "        status = task.state()\n",
    "\n",
    "        print(f\"🔄 Status da Task {task_arn}: {status}\")\n",
    "\n",
    "        if status == \"COMPLETED\":\n",
    "            result = task.result()\n",
    "            print(\"✅ Execução completa! Resultados:\", result.measurement_counts)\n",
    "            return result.measurement_counts\n",
    "        elif status in [\"FAILED\", \"CANCELLED\"]:\n",
    "            print(f\"❌ Task {task_arn} falhou ou foi cancelada.\")\n",
    "        else:\n",
    "            print(f\"⌛ Task {task_arn} ainda em execução...\")\n",
    "        \n",
    "        return None  # Ainda não está pronto\n",
    "\n",
    "    except Exception as e:\n",
    "        print(f\"Erro ao verificar status: {e}\")"
   ]
  },
  {
   "cell_type": "code",
   "execution_count": null,
   "id": "8e707dd5-08b8-4946-a346-87acd06e6dd4",
   "metadata": {},
   "outputs": [],
   "source": []
  }
 ],
 "metadata": {
  "kernelspec": {
   "display_name": "Python 3 (ipykernel)",
   "language": "python",
   "name": "python3"
  },
  "language_info": {
   "codemirror_mode": {
    "name": "ipython",
    "version": 3
   },
   "file_extension": ".py",
   "mimetype": "text/x-python",
   "name": "python",
   "nbconvert_exporter": "python",
   "pygments_lexer": "ipython3",
   "version": "3.13.1"
  }
 },
 "nbformat": 4,
 "nbformat_minor": 5
}
