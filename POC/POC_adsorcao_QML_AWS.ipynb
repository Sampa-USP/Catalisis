{
 "cells": [
  {
   "cell_type": "markdown",
   "id": "85e25d08",
   "metadata": {},
   "source": [
    "\n",
    "# POC — Adsorção (CO₂⁻·) Forte vs Fraca em Metais (111): Clássico vs Quântico (AWS Braket)\n",
    "\n",
    "**Objetivo:** POC mínima, executável hoje em NISQ, que classifica **forte** vs **fraca** adsorção de CO₂⁻· em superfícies (111) de metais, conectando diretamente ao artigo *Amaral et al., JES 2022*.\n",
    "- **Features (3):** proxy de *Mendeleev* (usaremos **número atômico** como *proxy* nesta POC), **temperatura de fusão** (K) e **raio covalente** (Å).  \n",
    "- **Classes:** `1 = liga forte` (Rh, Ir, Ni, Pd, Pt) vs `0 = liga fraca` (Cu, Ag, Au, Pb).  \n",
    "- **Pipelines:** baseline clássico (scikit-learn) e **Quantum Kernel SVM** (feature map quântico em 3 qubits) pelo **AWS Braket (SV1/DM1/QPUs)**.\n"
   ]
  },
  {
   "cell_type": "markdown",
   "id": "9f42cae6",
   "metadata": {},
   "source": [
    "\n",
    "## 0) Setup de ambiente (AWS Braket + Python)\n",
    "> Execute esta célula apenas **na instância/notebook AWS** com permissão ao Braket.\n"
   ]
  },
  {
   "cell_type": "code",
   "execution_count": null,
   "id": "cc1d84e8",
   "metadata": {},
   "outputs": [],
   "source": [
    "\n",
    "# %pip install -q amazon-braket-sdk amazon-braket-default-simulator boto3 botocore\n",
    "# %pip install -q scikit-learn pandas numpy matplotlib\n",
    "\n",
    "import json, math, itertools, time, random\n",
    "import numpy as np\n",
    "import pandas as pd\n",
    "import matplotlib.pyplot as plt\n",
    "\n",
    "from sklearn.preprocessing import MinMaxScaler\n",
    "from sklearn.model_selection import LeaveOneOut\n",
    "from sklearn.metrics import accuracy_score, confusion_matrix\n",
    "from sklearn.svm import SVC\n",
    "from sklearn.linear_model import LogisticRegression\n",
    "\n",
    "# AWS Braket SDK\n",
    "from braket.aws import AwsDevice\n",
    "from braket.circuits import Circuit\n",
    "from braket.devices import LocalSimulator\n",
    "\n",
    "print(\"Libs ok.\")\n"
   ]
  },
  {
   "cell_type": "markdown",
   "id": "87255817",
   "metadata": {},
   "source": [
    "\n",
    "## 1) Dataset mínimo\n",
    "- Metais: {Rh, Ir, Ni, Pd, Pt, Cu, Ag, Au, Pb}  \n",
    "- **Classe**: `1` (forte) = {Rh, Ir, Ni, Pd, Pt}; `0` (fraca) = {Cu, Ag, Au, Pb}  \n",
    "- **Features (3)**: \n",
    "  - `Z`: número atômico (usado aqui como *proxy* para o \"Mendeleev number\" da literatura)\n",
    "  - `Tmelt_K`: temperatura de fusão em kelvin\n",
    "  - `rcov_A`: raio covalente em angstrom\n",
    "> Os valores abaixo são aproximados para fins de POC. Em produção, substitua por uma tabela verificada.\n"
   ]
  },
  {
   "cell_type": "code",
   "execution_count": null,
   "id": "021e1dde",
   "metadata": {},
   "outputs": [],
   "source": [
    "\n",
    "data = [\n",
    "    (\"Rh\",   45,  2237, 1.35, 1),\n",
    "    (\"Ir\",   77,  2719, 1.36, 1),\n",
    "    (\"Ni\",   28,  1728, 1.24, 1),\n",
    "    (\"Pd\",   46,  1828, 1.39, 1),\n",
    "    (\"Pt\",   78,  2041, 1.36, 1),\n",
    "    (\"Cu\",   29,  1357, 1.32, 0),\n",
    "    (\"Ag\",   47,  1234, 1.45, 0),\n",
    "    (\"Au\",   79,  1337, 1.36, 0),\n",
    "    (\"Pb\",   82,   601, 1.44, 0),\n",
    "]\n",
    "df = pd.DataFrame(data, columns=[\"metal\",\"Z\",\"Tmelt_K\",\"rcov_A\",\"y\"])\n",
    "display(df)\n"
   ]
  },
  {
   "cell_type": "markdown",
   "id": "c8de6c19",
   "metadata": {},
   "source": [
    "\n",
    "### Normalização [0,1] e split Leave-One-Out\n"
   ]
  },
  {
   "cell_type": "code",
   "execution_count": null,
   "id": "92c01227",
   "metadata": {},
   "outputs": [],
   "source": [
    "\n",
    "X = df[[\"Z\",\"Tmelt_K\",\"rcov_A\"]].to_numpy(dtype=float)\n",
    "y = df[\"y\"].to_numpy(dtype=int)\n",
    "\n",
    "scaler = MinMaxScaler()\n",
    "Xn = scaler.fit_transform(X)\n",
    "\n",
    "print(\"X shape:\", Xn.shape, \"y shape:\", y.shape)\n"
   ]
  },
  {
   "cell_type": "markdown",
   "id": "a8ece32c",
   "metadata": {},
   "source": [
    "\n",
    "## 2) Baseline Clássico (Logistic Regression e SVM-RBF)\n"
   ]
  },
  {
   "cell_type": "code",
   "execution_count": null,
   "id": "cdc25cde",
   "metadata": {},
   "outputs": [],
   "source": [
    "\n",
    "def loo_eval_clf(clf, X, y):\n",
    "    loo = LeaveOneOut()\n",
    "    y_true, y_pred = [], []\n",
    "    for train_idx, test_idx in loo.split(X):\n",
    "        clf.fit(X[train_idx], y[train_idx])\n",
    "        y_pred.append(clf.predict(X[test_idx])[0])\n",
    "        y_true.append(y[test_idx][0])\n",
    "    acc = accuracy_score(y_true, y_pred)\n",
    "    cm = confusion_matrix(y_true, y_pred, labels=[0,1])\n",
    "    return acc, cm\n",
    "\n",
    "logreg = LogisticRegression(max_iter=1000)\n",
    "svm_rbf = SVC(kernel=\"rbf\", C=1.0, gamma=\"scale\")\n",
    "\n",
    "acc_log, cm_log = loo_eval_clf(logreg, Xn, y)\n",
    "acc_svm, cm_svm = loo_eval_clf(svm_rbf, Xn, y)\n",
    "\n",
    "print(f\"LogReg LOO acc = {acc_log:.3f}\\nConfusion:\\n{cm_log}\")\n",
    "print(\"\\n---\\n\")\n",
    "print(f\"SVM RBF LOO acc = {acc_svm:.3f}\\nConfusion:\\n{cm_svm}\")\n"
   ]
  },
  {
   "cell_type": "markdown",
   "id": "57dd8de1",
   "metadata": {},
   "source": [
    "\n",
    "## 3) Quantum Kernel SVM (AWS Braket)\n",
    "\n",
    "**Ideia:** Feature map quântico Phi(x) em 3 qubits (angle encoding) + CZ chain.  \n",
    "Kernel K(x,x') = |<Phi(x)|Phi(x')>|^2 via circuito U(x) adjoint * U(x').\n"
   ]
  },
  {
   "cell_type": "markdown",
   "id": "89ae0b43",
   "metadata": {},
   "source": [
    "\n",
    "### 3.1) Dispositivo\n",
    "- `amazon/sv1` (state-vector, ideal)\n",
    "- `amazon/dm1` (density-matrix, suporta ruído)\n",
    "- QPUs (trocar ARN conforme conta/região)\n"
   ]
  },
  {
   "cell_type": "code",
   "execution_count": null,
   "id": "4d137aa1",
   "metadata": {},
   "outputs": [],
   "source": [
    "\n",
    "device_arn = \"arn:aws:braket:::device/quantum-simulator/amazon/sv1\"\n",
    "device = AwsDevice(device_arn)\n",
    "device\n"
   ]
  },
  {
   "cell_type": "markdown",
   "id": "c74492c7",
   "metadata": {},
   "source": [
    "\n",
    "### 3.2) Feature map (3 qubits, 2 camadas)\n",
    "Layer(x) = RY(pi*x0) RY(pi*x1) RY(pi*x2) -> CZ(0,1), CZ(1,2), repete 2x.\n"
   ]
  },
  {
   "cell_type": "code",
   "execution_count": null,
   "id": "cb2a704c",
   "metadata": {},
   "outputs": [],
   "source": [
    "\n",
    "import math\n",
    "from braket.circuits import Circuit\n",
    "\n",
    "def feature_map_circuit(x3):\n",
    "    x0, x1, x2 = map(float, x3)\n",
    "    c = Circuit()\n",
    "    # Layer 1\n",
    "    c.ry(0, math.pi * x0).ry(1, math.pi * x1).ry(2, math.pi * x2)\n",
    "    c.cz(0,1).cz(1,2)\n",
    "    # Layer 2\n",
    "    c.ry(0, math.pi * x0).ry(1, math.pi * x1).ry(2, math.pi * x2)\n",
    "    c.cz(0,1).cz(1,2)\n",
    "    return c\n",
    "\n",
    "def overlap_kernel_element(x, xp):\n",
    "    # U_dag(x) U(x') on |000>, measure prob of |000>\n",
    "    Ux = feature_map_circuit(x)\n",
    "    Uxp = feature_map_circuit(xp)\n",
    "    c = (Ux.adjoint() + Uxp)\n",
    "    return c\n",
    "\n",
    "print(feature_map_circuit(Xn[0]))\n"
   ]
  },
  {
   "cell_type": "markdown",
   "id": "0cb9cfb0",
   "metadata": {},
   "source": [
    "\n",
    "### 3.3) Matriz de kernel no Braket\n",
    "- Em SV1, `shots=None` dá probabilidade exata (ideal).  \n",
    "- Em DM1/QPU, use `shots` (ex.: 4096) e considere mitigação de leitura.\n"
   ]
  },
  {
   "cell_type": "code",
   "execution_count": null,
   "id": "6dc8b6b0",
   "metadata": {},
   "outputs": [],
   "source": [
    "\n",
    "def kernel_matrix(Xn, device, shots=None, s3_bucket=None, s3_prefix=None):\n",
    "    n = len(Xn)\n",
    "    K = np.zeros((n,n), dtype=float)\n",
    "    # Diagonal\n",
    "    for i in range(n):\n",
    "        if shots is None and \"sv1\" in device.name.lower():\n",
    "            K[i,i] = 1.0\n",
    "        else:\n",
    "            circ = overlap_kernel_element(Xn[i], Xn[i])\n",
    "            task = device.run(circ, shots=shots, s3_destination_folder=(s3_bucket, s3_prefix) if s3_bucket else None)\n",
    "            res = task.result()\n",
    "            counts = getattr(res, \"measurement_counts\", None)\n",
    "            if counts:\n",
    "                total = sum(counts.values())\n",
    "                p000 = counts.get(\"000\", 0) / (total if total > 0 else 1)\n",
    "            else:\n",
    "                probs = getattr(res, \"measured_probability\", {}) or {}\n",
    "                p000 = probs.get(\"000\", 1.0)\n",
    "            K[i,i] = p000\n",
    "    # Off-diagonais\n",
    "    for i in range(n):\n",
    "        for j in range(i+1, n):\n",
    "            circ = overlap_kernel_element(Xn[i], Xn[j])\n",
    "            task = device.run(circ, shots=shots, s3_destination_folder=(s3_bucket, s3_prefix) if s3_bucket else None)\n",
    "            res = task.result()\n",
    "            counts = getattr(res, \"measurement_counts\", None)\n",
    "            if counts:\n",
    "                total = sum(counts.values())\n",
    "                p000 = counts.get(\"000\", 0) / (total if total > 0 else 1)\n",
    "            else:\n",
    "                probs = getattr(res, \"measured_probability\", {}) or {}\n",
    "                p000 = probs.get(\"000\", 0.0)\n",
    "            K[i,j] = K[j,i] = p000\n",
    "    return K\n",
    "\n",
    "print(\"Funções de kernel prontas.\")\n"
   ]
  },
  {
   "cell_type": "markdown",
   "id": "7827988f",
   "metadata": {},
   "source": [
    "\n",
    "### 3.4) LOO com SVM (kernel pré-computado)\n"
   ]
  },
  {
   "cell_type": "code",
   "execution_count": null,
   "id": "80428d0e",
   "metadata": {},
   "outputs": [],
   "source": [
    "\n",
    "def loo_eval_qkernel_svm(Xn, y, device, shots=None, s3_bucket=None, s3_prefix=None):\n",
    "    loo = LeaveOneOut()\n",
    "    y_true, y_pred = [], []\n",
    "    for test_idx, in loo.split(Xn):\n",
    "        train_idx = [i for i in range(len(Xn)) if i not in test_idx]\n",
    "        K_train = kernel_matrix(Xn[train_idx], device, shots, s3_bucket, s3_prefix)\n",
    "        # Kernel entre teste e treino\n",
    "        K_test = np.zeros((1, len(train_idx)))\n",
    "        for j, idx in enumerate(train_idx):\n",
    "            circ = overlap_kernel_element(Xn[test_idx[0]], Xn[idx])\n",
    "            task = device.run(circ, shots=shots, s3_destination_folder=(s3_bucket, s3_prefix) if s3_bucket else None)\n",
    "            res = task.result()\n",
    "            counts = getattr(res, \"measurement_counts\", None)\n",
    "            if counts:\n",
    "                total = sum(counts.values())\n",
    "                p000 = counts.get(\"000\", 0) / (total if total > 0 else 1)\n",
    "            else:\n",
    "                probs = getattr(res, \"measured_probability\", {}) or {}\n",
    "                p000 = probs.get(\"000\", 0.0)\n",
    "            K_test[0, j] = p000\n",
    "\n",
    "        clf = SVC(kernel=\"precomputed\", C=1.0)\n",
    "        clf.fit(K_train, y[train_idx])\n",
    "        y_hat = clf.predict(K_test)[0]\n",
    "        y_pred.append(y_hat)\n",
    "        y_true.append(y[test_idx[0]])\n",
    "    acc = accuracy_score(y_true, y_pred)\n",
    "    cm = confusion_matrix(y_true, y_pred, labels=[0,1])\n",
    "    return acc, cm\n",
    "\n",
    "print(\"Pronto para rodar avaliação quantum-kernel (cuidado com custos).\")\n"
   ]
  },
  {
   "cell_type": "markdown",
   "id": "4aafc6ae",
   "metadata": {},
   "source": [
    "\n",
    "## 4) (Opcional) DM1 com ruído e variação de shots\n",
    "- Altere `device_arn` para `amazon/dm1` e ajuste `shots` para {512, 1024, 4096, 8192}.\n",
    "- Insira canais de ruído após CZ se desejar (ex.: depolarizing).\n"
   ]
  },
  {
   "cell_type": "markdown",
   "id": "4c2f2768",
   "metadata": {},
   "source": [
    "\n",
    "## 5) Visualização: matrizes de confusão\n"
   ]
  },
  {
   "cell_type": "code",
   "execution_count": null,
   "id": "8d435be9",
   "metadata": {},
   "outputs": [],
   "source": [
    "\n",
    "def plot_confusion(cm, title=\"Confusion Matrix\"):\n",
    "    fig, ax = plt.subplots(figsize=(3.5,3.2))\n",
    "    im = ax.imshow(cm, interpolation='nearest')\n",
    "    ax.set_title(title)\n",
    "    ax.set_xticks([0,1]); ax.set_yticks([0,1])\n",
    "    ax.set_xticklabels(['weak(0)','strong(1)']); ax.set_yticklabels(['weak(0)','strong(1)'])\n",
    "    for i in range(cm.shape[0]):\n",
    "        for j in range(cm.shape[1]):\n",
    "            ax.text(j, i, cm[i,j], ha=\"center\", va=\"center\")\n",
    "    ax.set_xlabel(\"Pred\"); ax.set_ylabel(\"True\")\n",
    "    plt.show()\n",
    "\n",
    "plot_confusion(cm_log, \"LogReg LOO\")\n",
    "plot_confusion(cm_svm, \"SVM RBF LOO\")\n"
   ]
  },
  {
   "cell_type": "markdown",
   "id": "0ffb6fa1",
   "metadata": {},
   "source": [
    "\n",
    "## 6) (Opcional) Persistência S3\n"
   ]
  },
  {
   "cell_type": "code",
   "execution_count": null,
   "id": "ccbc4f58",
   "metadata": {},
   "outputs": [],
   "source": [
    "\n",
    "S3_BUCKET = None  # ex.: \"meu-bucket-braket\"\n",
    "S3_PREFIX = \"experimentos/poc_qkernel\"\n"
   ]
  },
  {
   "cell_type": "markdown",
   "id": "7c4091a3",
   "metadata": {},
   "source": [
    "\n",
    "## 7) QPU real (instruções)\n",
    "- Liste e selecione um QPU disponível na sua conta/região (Rigetti, IonQ, OQC, QuEra etc.).\n",
    "- Ajuste `shots` (>= 4000) e considere mitigação de erro de leitura.\n"
   ]
  },
  {
   "cell_type": "markdown",
   "id": "8e4f285c",
   "metadata": {},
   "source": [
    "\n",
    "## 8) Critérios de sucesso para a demo\n",
    "- Baselines clássicos com acurácia LOO > 0.6.\n",
    "- Quantum kernel (SV1 ideal) ~ baseline ou melhor.\n",
    "- Em DM1/QPU, acurácia > 0.6–0.7 com melhora ao aumentar shots/mitigação.\n"
   ]
  }
 ],
 "metadata": {},
 "nbformat": 4,
 "nbformat_minor": 5
}