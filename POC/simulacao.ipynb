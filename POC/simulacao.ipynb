{
 "cells": [
  {
   "cell_type": "code",
   "execution_count": 10,
   "id": "1a122d17",
   "metadata": {},
   "outputs": [],
   "source": [
    "import json, math, itertools, time, random\n",
    "import numpy as np\n",
    "import pandas as pd\n",
    "import matplotlib.pyplot as plt\n",
    "\n",
    "from sklearn.preprocessing import MinMaxScaler\n",
    "from sklearn.model_selection import LeaveOneOut\n",
    "from sklearn.metrics import accuracy_score, confusion_matrix\n",
    "from sklearn.svm import SVC\n",
    "from sklearn.linear_model import LogisticRegression\n",
    "\n",
    "# AWS Braket SDK\n",
    "from braket.aws import AwsDevice\n",
    "from braket.circuits import Circuit\n",
    "from braket.devices import LocalSimulator"
   ]
  },
  {
   "cell_type": "code",
   "execution_count": 11,
   "id": "0bbf7f0c",
   "metadata": {},
   "outputs": [
    {
     "name": "stdout",
     "output_type": "stream",
     "text": [
      "X_raw shape: (9, 4)\n",
      "y shape: (9,)\n"
     ]
    }
   ],
   "source": [
    "# Carregar dataset reduzido já com labels\n",
    "df = pd.read_csv(\"metal_features_reduzido_com_y.csv\")\n",
    "\n",
    "features = [\"Mendeleev\", \"Tmelt_K\", \"rcov_A\", \"d_band_center\"]\n",
    "X_raw = df[features].to_numpy(dtype=float)   # <- esta é a matriz bruta (antes de normalizar)\n",
    "y     = df[\"y\"].to_numpy(dtype=int)\n",
    "metals = df[\"metal\"].astype(str).tolist()\n",
    "\n",
    "print(\"X_raw shape:\", X_raw.shape)\n",
    "print(\"y shape:\", y.shape)\n"
   ]
  },
  {
   "cell_type": "code",
   "execution_count": 12,
   "id": "a374370f",
   "metadata": {},
   "outputs": [
    {
     "name": "stdout",
     "output_type": "stream",
     "text": [
      "Ankaa-3 -> arn:aws:braket:us-west-1::device/qpu/rigetti/Ankaa-3\n",
      "Aquila -> arn:aws:braket:us-east-1::device/qpu/quera/Aquila\n",
      "Aria 1 -> arn:aws:braket:us-east-1::device/qpu/ionq/Aria-1\n",
      "Aria 2 -> arn:aws:braket:us-east-1::device/qpu/ionq/Aria-2\n",
      "Emerald -> arn:aws:braket:eu-north-1::device/qpu/iqm/Emerald\n",
      "Forte 1 -> arn:aws:braket:us-east-1::device/qpu/ionq/Forte-1\n",
      "Forte Enterprise 1 -> arn:aws:braket:us-east-1::device/qpu/ionq/Forte-Enterprise-1\n",
      "Garnet -> arn:aws:braket:eu-north-1::device/qpu/iqm/Garnet\n"
     ]
    }
   ],
   "source": [
    "# %pip install amazon-braket-sdk amazon-braket-default-simulator -q\n",
    "\n",
    "from braket.aws import AwsDevice, AwsSession\n",
    "from braket.circuits import Circuit\n",
    "from braket.devices import LocalSimulator\n",
    "\n",
    "# Sessão na região (ajuste se usar outra)\n",
    "session = AwsSession()  # ou us-west-1, eu-west-2 etc.\n",
    "\n",
    "# SV1 (state-vector simulator gerenciado)\n",
    "sv1 = AwsDevice(\"arn:aws:braket:::device/quantum-simulator/amazon/sv1\", aws_session=session)\n",
    "\n",
    "# Outros simuladores gerenciados:\n",
    "dm1 = AwsDevice(\"arn:aws:braket:::device/quantum-simulator/amazon/dm1\", aws_session=session)  # density matrix\n",
    "tn1 = AwsDevice(\"arn:aws:braket:::device/quantum-simulator/amazon/tn1\", aws_session=session)  # tensor network\n",
    "\n",
    "# Ex.: listar QPUs disponíveis na região da sessão (para pegar o ARN certo)\n",
    "from braket.aws import AwsDeviceType, AwsQuantumTaskBatch\n",
    "qpus = [d for d in AwsDevice.get_devices(aws_session=session) if d.type == AwsDeviceType.QPU]\n",
    "for d in qpus:\n",
    "    print(d.name, \"->\", d.arn)\n"
   ]
  },
  {
   "cell_type": "code",
   "execution_count": 13,
   "id": "c4e467c5",
   "metadata": {},
   "outputs": [],
   "source": [
    "import numpy as np\n",
    "from braket.circuits import Circuit\n",
    "\n",
    "def feature_map_ry_cz(x, layers=2):\n",
    "    # x: 4 features em [0,1]\n",
    "    c = Circuit()\n",
    "    for _ in range(layers):\n",
    "        for q, xi in enumerate(x):\n",
    "            c.ry(q, np.pi * xi)\n",
    "        c.cz(0,1).cz(1,2).cz(2,3)\n",
    "    return c\n",
    "\n",
    "def overlap_circuit(x, xp, layers=2):\n",
    "    Ux  = feature_map_ry_cz(x,  layers)\n",
    "    Uxp = feature_map_ry_cz(xp, layers)\n",
    "    return Circuit().add_circuit(Ux.adjoint()).add_circuit(Uxp)\n"
   ]
  },
  {
   "cell_type": "code",
   "execution_count": 5,
   "id": "9945f4bc",
   "metadata": {},
   "outputs": [
    {
     "name": "stdout",
     "output_type": "stream",
     "text": [
      "=== U(x) ===\n",
      "T  : │     0      │  1  │     2      │     3      │     4      │  5  │  6  │\n",
      "      ┌──────────┐       ┌──────────┐                                       \n",
      "q0 : ─┤ Ry(0.31) ├───●───┤ Ry(0.31) ├───────────────────●───────────────────\n",
      "      └──────────┘   │   └──────────┘                   │                   \n",
      "      ┌──────────┐ ┌─┴─┐              ┌──────────┐    ┌─┴─┐                 \n",
      "q1 : ─┤ Ry(0.63) ├─┤ Z ├──────●───────┤ Ry(0.63) ├────┤ Z ├───────●─────────\n",
      "      └──────────┘ └───┘      │       └──────────┘    └───┘       │         \n",
      "      ┌──────────┐          ┌─┴─┐                  ┌──────────┐ ┌─┴─┐       \n",
      "q2 : ─┤ Ry(0.94) ├──────────┤ Z ├──────────●───────┤ Ry(0.94) ├─┤ Z ├───●───\n",
      "      └──────────┘          └───┘          │       └──────────┘ └───┘   │   \n",
      "      ┌──────────┐                       ┌─┴─┐     ┌──────────┐       ┌─┴─┐ \n",
      "q3 : ─┤ Ry(1.26) ├───────────────────────┤ Z ├─────┤ Ry(1.26) ├───────┤ Z ├─\n",
      "      └──────────┘                       └───┘     └──────────┘       └───┘ \n",
      "T  : │     0      │  1  │     2      │     3      │     4      │  5  │  6  │\n",
      "\n",
      "=== U(x)^† U(x') ===\n",
      "T  : │  0  │      1      │      2      │      3      │      4      │      5      │      6      │     7      │  8  │     9      │     10     │     11     │ 12  │ 13  │\n",
      "                                        ┌───────────┐                             ┌───────────┐ ┌──────────┐       ┌──────────┐                                       \n",
      "q0 : ───────────────────────────●───────┤ Ry(-0.31) ├─────────────────────●───────┤ Ry(-0.31) ├─┤ Ry(0.63) ├───●───┤ Ry(0.63) ├───────────────────●───────────────────\n",
      "                                │       └───────────┘                     │       └───────────┘ └──────────┘   │   └──────────┘                   │                   \n",
      "                              ┌─┴─┐     ┌───────────┐                   ┌─┴─┐     ┌───────────┐ ┌──────────┐ ┌─┴─┐              ┌──────────┐    ┌─┴─┐                 \n",
      "q1 : ─────────────●───────────┤ Z ├─────┤ Ry(-0.63) ├───────●───────────┤ Z ├─────┤ Ry(-0.63) ├─┤ Ry(0.31) ├─┤ Z ├──────●───────┤ Ry(0.31) ├────┤ Z ├───────●─────────\n",
      "                  │           └───┘     └───────────┘       │           └───┘     └───────────┘ └──────────┘ └───┘      │       └──────────┘    └───┘       │         \n",
      "                ┌─┴─┐     ┌───────────┐                   ┌─┴─┐     ┌───────────┐ ┌──────────┐                        ┌─┴─┐                  ┌──────────┐ ┌─┴─┐       \n",
      "q2 : ───●───────┤ Z ├─────┤ Ry(-0.94) ├───────●───────────┤ Z ├─────┤ Ry(-0.94) ├─┤ Ry(1.26) ├────────────────────────┤ Z ├──────────●───────┤ Ry(1.26) ├─┤ Z ├───●───\n",
      "        │       └───┘     └───────────┘       │           └───┘     └───────────┘ └──────────┘                        └───┘          │       └──────────┘ └───┘   │   \n",
      "      ┌─┴─┐ ┌───────────┐                   ┌─┴─┐     ┌───────────┐ ┌──────────┐                                                   ┌─┴─┐     ┌──────────┐       ┌─┴─┐ \n",
      "q3 : ─┤ Z ├─┤ Ry(-1.26) ├───────────────────┤ Z ├─────┤ Ry(-1.26) ├─┤ Ry(0.94) ├───────────────────────────────────────────────────┤ Z ├─────┤ Ry(0.94) ├───────┤ Z ├─\n",
      "      └───┘ └───────────┘                   └───┘     └───────────┘ └──────────┘                                                   └───┘     └──────────┘       └───┘ \n",
      "T  : │  0  │      1      │      2      │      3      │      4      │      5      │      6      │     7      │  8  │     9      │     10     │     11     │ 12  │ 13  │\n"
     ]
    }
   ],
   "source": [
    "x_demo  = [0.1,0.2,0.3,0.4]\n",
    "xp_demo = [0.2,0.1,0.4,0.3]\n",
    "print(\"=== U(x) ===\"); print(feature_map_ry_cz(x_demo, layers=2))\n",
    "print(\"\\n=== U(x)^† U(x') ===\"); print(overlap_circuit(x_demo, xp_demo, layers=2))\n"
   ]
  },
  {
   "cell_type": "code",
   "execution_count": 17,
   "id": "7eb8aa9f",
   "metadata": {},
   "outputs": [],
   "source": [
    "def fidelity_any(device, x, xp, layers=2, shots=2000):\n",
    "    \"\"\"\n",
    "    Estima |<Phi(x)|Phi(x')>|^2 como frequência de '0000'.\n",
    "    Funciona em SV1/DM1/TN1 e em QPUs.\n",
    "    \"\"\"\n",
    "    circ = overlap_circuit(x, xp, layers)\n",
    "    circ = circ.measure_all()            # mede todos os qubits\n",
    "    task = device.run(circ, shots=shots)\n",
    "    counts = task.result().measurement_counts  # dict: 'bitstring' -> contagem\n",
    "    return counts.get('0000', 0) / shots\n",
    "\n"
   ]
  },
  {
   "cell_type": "code",
   "execution_count": 15,
   "id": "1211b4ea",
   "metadata": {},
   "outputs": [],
   "source": [
    "def fidelity_qpu(device, x, xp, layers=2, shots=2000):\n",
    "    circ = overlap_circuit(x, xp, layers)\n",
    "    circ = circ.measure_all()  # mede todos os qubits\n",
    "    task = device.run(circ, shots=shots)\n",
    "    counts = task.result().measurement_counts  # dict: bitstring -> contagem\n",
    "    # bitstring de 4 qubits no Braket é '0000' para |0...0> (little-endian por default)\n",
    "    p0000 = counts.get('0000', 0) / shots\n",
    "    return float(p0000)\n"
   ]
  },
  {
   "cell_type": "code",
   "execution_count": 16,
   "id": "ec7bcc4d",
   "metadata": {},
   "outputs": [
    {
     "ename": "ValidationException",
     "evalue": "An error occurred (ValidationException) when calling the CreateQuantumTask operation: [line 31] for result type probability, the shot should be between 1 and 100000 on the requested device",
     "output_type": "error",
     "traceback": [
      "\u001b[31m---------------------------------------------------------------------------\u001b[39m",
      "\u001b[31mValidationException\u001b[39m                       Traceback (most recent call last)",
      "\u001b[36mCell\u001b[39m\u001b[36m \u001b[39m\u001b[32mIn[16]\u001b[39m\u001b[32m, line 32\u001b[39m\n\u001b[32m     30\u001b[39m \u001b[38;5;28;01mfor\u001b[39;00m i \u001b[38;5;129;01min\u001b[39;00m \u001b[38;5;28mrange\u001b[39m(n):\n\u001b[32m     31\u001b[39m     \u001b[38;5;28;01mfor\u001b[39;00m j \u001b[38;5;129;01min\u001b[39;00m \u001b[38;5;28mrange\u001b[39m(n):\n\u001b[32m---> \u001b[39m\u001b[32m32\u001b[39m         Ktr[i,j] = \u001b[43mfidelity_dispatch\u001b[49m\u001b[43m(\u001b[49m\u001b[43mXtr\u001b[49m\u001b[43m[\u001b[49m\u001b[43mi\u001b[49m\u001b[43m]\u001b[49m\u001b[43m,\u001b[49m\u001b[43m \u001b[49m\u001b[43mXtr\u001b[49m\u001b[43m[\u001b[49m\u001b[43mj\u001b[49m\u001b[43m]\u001b[49m\u001b[43m,\u001b[49m\u001b[43m \u001b[49m\u001b[43mlayers\u001b[49m\u001b[43m=\u001b[49m\u001b[32;43m2\u001b[39;49m\u001b[43m)\u001b[49m\n\u001b[32m     34\u001b[39m Kte = np.zeros((\u001b[32m1\u001b[39m,n))\n\u001b[32m     35\u001b[39m \u001b[38;5;28;01mfor\u001b[39;00m j \u001b[38;5;129;01min\u001b[39;00m \u001b[38;5;28mrange\u001b[39m(n):\n",
      "\u001b[36mCell\u001b[39m\u001b[36m \u001b[39m\u001b[32mIn[16]\u001b[39m\u001b[32m, line 19\u001b[39m, in \u001b[36mfidelity_dispatch\u001b[39m\u001b[34m(x, xp, layers)\u001b[39m\n\u001b[32m     17\u001b[39m     \u001b[38;5;28;01mreturn\u001b[39;00m fidelity_qpu(device, x, xp, layers=layers, shots=\u001b[32m2000\u001b[39m)\n\u001b[32m     18\u001b[39m \u001b[38;5;28;01melse\u001b[39;00m:\n\u001b[32m---> \u001b[39m\u001b[32m19\u001b[39m     \u001b[38;5;28;01mreturn\u001b[39;00m \u001b[43mfidelity_simulator\u001b[49m\u001b[43m(\u001b[49m\u001b[43mdevice\u001b[49m\u001b[43m,\u001b[49m\u001b[43m \u001b[49m\u001b[43mx\u001b[49m\u001b[43m,\u001b[49m\u001b[43m \u001b[49m\u001b[43mxp\u001b[49m\u001b[43m,\u001b[49m\u001b[43m \u001b[49m\u001b[43mlayers\u001b[49m\u001b[43m=\u001b[49m\u001b[43mlayers\u001b[49m\u001b[43m)\u001b[49m\n",
      "\u001b[36mCell\u001b[39m\u001b[36m \u001b[39m\u001b[32mIn[14]\u001b[39m\u001b[32m, line 3\u001b[39m, in \u001b[36mfidelity_simulator\u001b[39m\u001b[34m(device, x, xp, layers)\u001b[39m\n\u001b[32m      1\u001b[39m \u001b[38;5;28;01mdef\u001b[39;00m\u001b[38;5;250m \u001b[39m\u001b[34mfidelity_simulator\u001b[39m(device, x, xp, layers=\u001b[32m2\u001b[39m):\n\u001b[32m      2\u001b[39m     circ = overlap_circuit(x, xp, layers).probability([\u001b[32m0\u001b[39m,\u001b[32m1\u001b[39m,\u001b[32m2\u001b[39m,\u001b[32m3\u001b[39m])\n\u001b[32m----> \u001b[39m\u001b[32m3\u001b[39m     task = \u001b[43mdevice\u001b[49m\u001b[43m.\u001b[49m\u001b[43mrun\u001b[49m\u001b[43m(\u001b[49m\u001b[43mcirc\u001b[49m\u001b[43m,\u001b[49m\u001b[43m \u001b[49m\u001b[43mshots\u001b[49m\u001b[43m=\u001b[49m\u001b[32;43m0\u001b[39;49m\u001b[43m)\u001b[49m\n\u001b[32m      4\u001b[39m     probs = task.result().result_types[\u001b[32m0\u001b[39m].value\n\u001b[32m      5\u001b[39m     \u001b[38;5;28;01mreturn\u001b[39;00m \u001b[38;5;28mfloat\u001b[39m(probs[\u001b[32m0\u001b[39m])\n",
      "\u001b[36mFile \u001b[39m\u001b[32m~/Repository/SAMPA-USP/Catalysis/.venv/lib/python3.12/site-packages/braket/aws/aws_device.py:205\u001b[39m, in \u001b[36mAwsDevice.run\u001b[39m\u001b[34m(self, task_specification, s3_destination_folder, shots, poll_timeout_seconds, poll_interval_seconds, inputs, gate_definitions, reservation_arn, *aws_quantum_task_args, **aws_quantum_task_kwargs)\u001b[39m\n\u001b[32m    203\u001b[39m \u001b[38;5;28;01mif\u001b[39;00m \u001b[38;5;28mself\u001b[39m._noise_model:\n\u001b[32m    204\u001b[39m     task_specification = \u001b[38;5;28mself\u001b[39m._apply_noise_model_to_circuit(task_specification)\n\u001b[32m--> \u001b[39m\u001b[32m205\u001b[39m \u001b[38;5;28;01mreturn\u001b[39;00m \u001b[43mAwsQuantumTask\u001b[49m\u001b[43m.\u001b[49m\u001b[43mcreate\u001b[49m\u001b[43m(\u001b[49m\n\u001b[32m    206\u001b[39m \u001b[43m    \u001b[49m\u001b[38;5;28;43mself\u001b[39;49m\u001b[43m.\u001b[49m\u001b[43m_aws_session\u001b[49m\u001b[43m,\u001b[49m\n\u001b[32m    207\u001b[39m \u001b[43m    \u001b[49m\u001b[38;5;28;43mself\u001b[39;49m\u001b[43m.\u001b[49m\u001b[43m_arn\u001b[49m\u001b[43m,\u001b[49m\n\u001b[32m    208\u001b[39m \u001b[43m    \u001b[49m\u001b[43mtask_specification\u001b[49m\u001b[43m,\u001b[49m\n\u001b[32m    209\u001b[39m \u001b[43m    \u001b[49m\u001b[43ms3_destination_folder\u001b[49m\n\u001b[32m    210\u001b[39m \u001b[43m    \u001b[49m\u001b[38;5;129;43;01mor\u001b[39;49;00m\u001b[43m \u001b[49m\u001b[43m(\u001b[49m\n\u001b[32m    211\u001b[39m \u001b[43m        \u001b[49m\u001b[43mAwsSession\u001b[49m\u001b[43m.\u001b[49m\u001b[43mparse_s3_uri\u001b[49m\u001b[43m(\u001b[49m\u001b[43mos\u001b[49m\u001b[43m.\u001b[49m\u001b[43menviron\u001b[49m\u001b[43m.\u001b[49m\u001b[43mget\u001b[49m\u001b[43m(\u001b[49m\u001b[33;43m\"\u001b[39;49m\u001b[33;43mAMZN_BRAKET_TASK_RESULTS_S3_URI\u001b[39;49m\u001b[33;43m\"\u001b[39;49m\u001b[43m)\u001b[49m\u001b[43m)\u001b[49m\n\u001b[32m    212\u001b[39m \u001b[43m        \u001b[49m\u001b[38;5;28;43;01mif\u001b[39;49;00m\u001b[43m \u001b[49m\u001b[33;43m\"\u001b[39;49m\u001b[33;43mAMZN_BRAKET_TASK_RESULTS_S3_URI\u001b[39;49m\u001b[33;43m\"\u001b[39;49m\u001b[43m \u001b[49m\u001b[38;5;129;43;01min\u001b[39;49;00m\u001b[43m \u001b[49m\u001b[43mos\u001b[49m\u001b[43m.\u001b[49m\u001b[43menviron\u001b[49m\n\u001b[32m    213\u001b[39m \u001b[43m        \u001b[49m\u001b[38;5;28;43;01melse\u001b[39;49;00m\u001b[43m \u001b[49m\u001b[38;5;28;43;01mNone\u001b[39;49;00m\n\u001b[32m    214\u001b[39m \u001b[43m    \u001b[49m\u001b[43m)\u001b[49m\n\u001b[32m    215\u001b[39m \u001b[43m    \u001b[49m\u001b[38;5;129;43;01mor\u001b[39;49;00m\u001b[43m \u001b[49m\u001b[43m(\u001b[49m\u001b[38;5;28;43mself\u001b[39;49m\u001b[43m.\u001b[49m\u001b[43m_aws_session\u001b[49m\u001b[43m.\u001b[49m\u001b[43mdefault_bucket\u001b[49m\u001b[43m(\u001b[49m\u001b[43m)\u001b[49m\u001b[43m,\u001b[49m\u001b[43m \u001b[49m\u001b[33;43m\"\u001b[39;49m\u001b[33;43mtasks\u001b[39;49m\u001b[33;43m\"\u001b[39;49m\u001b[43m)\u001b[49m\u001b[43m,\u001b[49m\n\u001b[32m    216\u001b[39m \u001b[43m    \u001b[49m\u001b[43mshots\u001b[49m\u001b[43m \u001b[49m\u001b[38;5;28;43;01mif\u001b[39;49;00m\u001b[43m \u001b[49m\u001b[43mshots\u001b[49m\u001b[43m \u001b[49m\u001b[38;5;129;43;01mis\u001b[39;49;00m\u001b[43m \u001b[49m\u001b[38;5;129;43;01mnot\u001b[39;49;00m\u001b[43m \u001b[49m\u001b[38;5;28;43;01mNone\u001b[39;49;00m\u001b[43m \u001b[49m\u001b[38;5;28;43;01melse\u001b[39;49;00m\u001b[43m \u001b[49m\u001b[38;5;28;43mself\u001b[39;49m\u001b[43m.\u001b[49m\u001b[43m_default_shots\u001b[49m\u001b[43m(\u001b[49m\u001b[43mtask_specification\u001b[49m\u001b[43m)\u001b[49m\u001b[43m,\u001b[49m\n\u001b[32m    217\u001b[39m \u001b[43m    \u001b[49m\u001b[43mpoll_timeout_seconds\u001b[49m\u001b[43m=\u001b[49m\u001b[43mpoll_timeout_seconds\u001b[49m\u001b[43m,\u001b[49m\n\u001b[32m    218\u001b[39m \u001b[43m    \u001b[49m\u001b[43mpoll_interval_seconds\u001b[49m\u001b[43m=\u001b[49m\u001b[43mpoll_interval_seconds\u001b[49m\u001b[43m \u001b[49m\u001b[38;5;129;43;01mor\u001b[39;49;00m\u001b[43m \u001b[49m\u001b[38;5;28;43mself\u001b[39;49m\u001b[43m.\u001b[49m\u001b[43m_poll_interval_seconds\u001b[49m\u001b[43m,\u001b[49m\n\u001b[32m    219\u001b[39m \u001b[43m    \u001b[49m\u001b[43minputs\u001b[49m\u001b[43m=\u001b[49m\u001b[43minputs\u001b[49m\u001b[43m,\u001b[49m\n\u001b[32m    220\u001b[39m \u001b[43m    \u001b[49m\u001b[43mgate_definitions\u001b[49m\u001b[43m=\u001b[49m\u001b[43mgate_definitions\u001b[49m\u001b[43m,\u001b[49m\n\u001b[32m    221\u001b[39m \u001b[43m    \u001b[49m\u001b[43mreservation_arn\u001b[49m\u001b[43m=\u001b[49m\u001b[43mreservation_arn\u001b[49m\u001b[43m,\u001b[49m\n\u001b[32m    222\u001b[39m \u001b[43m    \u001b[49m\u001b[43m*\u001b[49m\u001b[43maws_quantum_task_args\u001b[49m\u001b[43m,\u001b[49m\n\u001b[32m    223\u001b[39m \u001b[43m    \u001b[49m\u001b[43m*\u001b[49m\u001b[43m*\u001b[49m\u001b[43maws_quantum_task_kwargs\u001b[49m\u001b[43m,\u001b[49m\n\u001b[32m    224\u001b[39m \u001b[43m\u001b[49m\u001b[43m)\u001b[49m\n",
      "\u001b[36mFile \u001b[39m\u001b[32m~/Repository/SAMPA-USP/Catalysis/.venv/lib/python3.12/site-packages/braket/aws/aws_quantum_task.py:209\u001b[39m, in \u001b[36mAwsQuantumTask.create\u001b[39m\u001b[34m(aws_session, device_arn, task_specification, s3_destination_folder, shots, device_parameters, disable_qubit_rewiring, tags, inputs, gate_definitions, quiet, reservation_arn, *args, **kwargs)\u001b[39m\n\u001b[32m    204\u001b[39m     \u001b[38;5;28;01mif\u001b[39;00m unbounded_parameters := param_names - \u001b[38;5;28mset\u001b[39m(inputs.keys()):\n\u001b[32m    205\u001b[39m         \u001b[38;5;28;01mraise\u001b[39;00m \u001b[38;5;167;01mValueError\u001b[39;00m(\n\u001b[32m    206\u001b[39m             \u001b[33mf\u001b[39m\u001b[33m\"\u001b[39m\u001b[33mCannot execute circuit with unbound parameters: \u001b[39m\u001b[38;5;132;01m{\u001b[39;00munbounded_parameters\u001b[38;5;132;01m}\u001b[39;00m\u001b[33m\"\u001b[39m\n\u001b[32m    207\u001b[39m         )\n\u001b[32m--> \u001b[39m\u001b[32m209\u001b[39m \u001b[38;5;28;01mreturn\u001b[39;00m \u001b[43m_create_internal\u001b[49m\u001b[43m(\u001b[49m\n\u001b[32m    210\u001b[39m \u001b[43m    \u001b[49m\u001b[43mtask_specification\u001b[49m\u001b[43m,\u001b[49m\n\u001b[32m    211\u001b[39m \u001b[43m    \u001b[49m\u001b[43maws_session\u001b[49m\u001b[43m,\u001b[49m\n\u001b[32m    212\u001b[39m \u001b[43m    \u001b[49m\u001b[43mcreate_task_kwargs\u001b[49m\u001b[43m,\u001b[49m\n\u001b[32m    213\u001b[39m \u001b[43m    \u001b[49m\u001b[43mdevice_arn\u001b[49m\u001b[43m,\u001b[49m\n\u001b[32m    214\u001b[39m \u001b[43m    \u001b[49m\u001b[43mdevice_parameters\u001b[49m\u001b[43m \u001b[49m\u001b[38;5;129;43;01mor\u001b[39;49;00m\u001b[43m \u001b[49m\u001b[43m{\u001b[49m\u001b[43m}\u001b[49m\u001b[43m,\u001b[49m\n\u001b[32m    215\u001b[39m \u001b[43m    \u001b[49m\u001b[43mdisable_qubit_rewiring\u001b[49m\u001b[43m,\u001b[49m\n\u001b[32m    216\u001b[39m \u001b[43m    \u001b[49m\u001b[43minputs\u001b[49m\u001b[43m,\u001b[49m\n\u001b[32m    217\u001b[39m \u001b[43m    \u001b[49m\u001b[43mgate_definitions\u001b[49m\u001b[43m,\u001b[49m\n\u001b[32m    218\u001b[39m \u001b[43m    \u001b[49m\u001b[43mquiet\u001b[49m\u001b[43m=\u001b[49m\u001b[43mquiet\u001b[49m\u001b[43m,\u001b[49m\n\u001b[32m    219\u001b[39m \u001b[43m    \u001b[49m\u001b[43m*\u001b[49m\u001b[43margs\u001b[49m\u001b[43m,\u001b[49m\n\u001b[32m    220\u001b[39m \u001b[43m    \u001b[49m\u001b[43m*\u001b[49m\u001b[43m*\u001b[49m\u001b[43mkwargs\u001b[49m\u001b[43m,\u001b[49m\n\u001b[32m    221\u001b[39m \u001b[43m\u001b[49m\u001b[43m)\u001b[49m\n",
      "\u001b[36mFile \u001b[39m\u001b[32m/usr/lib/python3.12/functools.py:909\u001b[39m, in \u001b[36msingledispatch.<locals>.wrapper\u001b[39m\u001b[34m(*args, **kw)\u001b[39m\n\u001b[32m    905\u001b[39m \u001b[38;5;28;01mif\u001b[39;00m \u001b[38;5;129;01mnot\u001b[39;00m args:\n\u001b[32m    906\u001b[39m     \u001b[38;5;28;01mraise\u001b[39;00m \u001b[38;5;167;01mTypeError\u001b[39;00m(\u001b[33mf\u001b[39m\u001b[33m'\u001b[39m\u001b[38;5;132;01m{\u001b[39;00mfuncname\u001b[38;5;132;01m}\u001b[39;00m\u001b[33m requires at least \u001b[39m\u001b[33m'\u001b[39m\n\u001b[32m    907\u001b[39m                     \u001b[33m'\u001b[39m\u001b[33m1 positional argument\u001b[39m\u001b[33m'\u001b[39m)\n\u001b[32m--> \u001b[39m\u001b[32m909\u001b[39m \u001b[38;5;28;01mreturn\u001b[39;00m \u001b[43mdispatch\u001b[49m\u001b[43m(\u001b[49m\u001b[43margs\u001b[49m\u001b[43m[\u001b[49m\u001b[32;43m0\u001b[39;49m\u001b[43m]\u001b[49m\u001b[43m.\u001b[49m\u001b[34;43m__class__\u001b[39;49m\u001b[43m)\u001b[49m\u001b[43m(\u001b[49m\u001b[43m*\u001b[49m\u001b[43margs\u001b[49m\u001b[43m,\u001b[49m\u001b[43m \u001b[49m\u001b[43m*\u001b[49m\u001b[43m*\u001b[49m\u001b[43mkw\u001b[49m\u001b[43m)\u001b[49m\n",
      "\u001b[36mFile \u001b[39m\u001b[32m~/Repository/SAMPA-USP/Catalysis/.venv/lib/python3.12/site-packages/braket/aws/aws_quantum_task.py:759\u001b[39m, in \u001b[36m_\u001b[39m\u001b[34m(circuit, aws_session, create_task_kwargs, device_arn, device_parameters, disable_qubit_rewiring, inputs, gate_definitions, *args, **kwargs)\u001b[39m\n\u001b[32m    750\u001b[39m     openqasm_program = OpenQASMProgram(\n\u001b[32m    751\u001b[39m         source=openqasm_program.source,\n\u001b[32m    752\u001b[39m         inputs=inputs_copy,\n\u001b[32m    753\u001b[39m     )\n\u001b[32m    755\u001b[39m create_task_kwargs |= {\n\u001b[32m    756\u001b[39m     \u001b[33m\"\u001b[39m\u001b[33maction\u001b[39m\u001b[33m\"\u001b[39m: openqasm_program.json(),\n\u001b[32m    757\u001b[39m     \u001b[33m\"\u001b[39m\u001b[33mdeviceParameters\u001b[39m\u001b[33m\"\u001b[39m: final_device_parameters.json(exclude_none=\u001b[38;5;28;01mTrue\u001b[39;00m),\n\u001b[32m    758\u001b[39m }\n\u001b[32m--> \u001b[39m\u001b[32m759\u001b[39m task_arn = \u001b[43maws_session\u001b[49m\u001b[43m.\u001b[49m\u001b[43mcreate_quantum_task\u001b[49m\u001b[43m(\u001b[49m\u001b[43m*\u001b[49m\u001b[43m*\u001b[49m\u001b[43mcreate_task_kwargs\u001b[49m\u001b[43m)\u001b[49m\n\u001b[32m    760\u001b[39m \u001b[38;5;28;01mreturn\u001b[39;00m AwsQuantumTask(task_arn, aws_session, *args, **kwargs)\n",
      "\u001b[36mFile \u001b[39m\u001b[32m~/Repository/SAMPA-USP/Catalysis/.venv/lib/python3.12/site-packages/braket/aws/aws_session.py:273\u001b[39m, in \u001b[36mAwsSession.create_quantum_task\u001b[39m\u001b[34m(self, **boto3_kwargs)\u001b[39m\n\u001b[32m    271\u001b[39m \u001b[38;5;28;01mif\u001b[39;00m job_token:\n\u001b[32m    272\u001b[39m     boto3_kwargs[\u001b[33m\"\u001b[39m\u001b[33mjobToken\u001b[39m\u001b[33m\"\u001b[39m] = job_token\n\u001b[32m--> \u001b[39m\u001b[32m273\u001b[39m response = \u001b[38;5;28;43mself\u001b[39;49m\u001b[43m.\u001b[49m\u001b[43mbraket_client\u001b[49m\u001b[43m.\u001b[49m\u001b[43mcreate_quantum_task\u001b[49m\u001b[43m(\u001b[49m\u001b[43m*\u001b[49m\u001b[43m*\u001b[49m\u001b[43mboto3_kwargs\u001b[49m\u001b[43m)\u001b[49m\n\u001b[32m    274\u001b[39m broadcast_event(\n\u001b[32m    275\u001b[39m     _TaskCreationEvent(\n\u001b[32m    276\u001b[39m         arn=response[\u001b[33m\"\u001b[39m\u001b[33mquantumTaskArn\u001b[39m\u001b[33m\"\u001b[39m],\n\u001b[32m   (...)\u001b[39m\u001b[32m    280\u001b[39m     )\n\u001b[32m    281\u001b[39m )\n\u001b[32m    282\u001b[39m \u001b[38;5;28;01mreturn\u001b[39;00m response[\u001b[33m\"\u001b[39m\u001b[33mquantumTaskArn\u001b[39m\u001b[33m\"\u001b[39m]\n",
      "\u001b[36mFile \u001b[39m\u001b[32m~/Repository/SAMPA-USP/Catalysis/.venv/lib/python3.12/site-packages/botocore/client.py:602\u001b[39m, in \u001b[36mClientCreator._create_api_method.<locals>._api_call\u001b[39m\u001b[34m(self, *args, **kwargs)\u001b[39m\n\u001b[32m    598\u001b[39m     \u001b[38;5;28;01mraise\u001b[39;00m \u001b[38;5;167;01mTypeError\u001b[39;00m(\n\u001b[32m    599\u001b[39m         \u001b[33mf\u001b[39m\u001b[33m\"\u001b[39m\u001b[38;5;132;01m{\u001b[39;00mpy_operation_name\u001b[38;5;132;01m}\u001b[39;00m\u001b[33m() only accepts keyword arguments.\u001b[39m\u001b[33m\"\u001b[39m\n\u001b[32m    600\u001b[39m     )\n\u001b[32m    601\u001b[39m \u001b[38;5;66;03m# The \"self\" in this scope is referring to the BaseClient.\u001b[39;00m\n\u001b[32m--> \u001b[39m\u001b[32m602\u001b[39m \u001b[38;5;28;01mreturn\u001b[39;00m \u001b[38;5;28;43mself\u001b[39;49m\u001b[43m.\u001b[49m\u001b[43m_make_api_call\u001b[49m\u001b[43m(\u001b[49m\u001b[43moperation_name\u001b[49m\u001b[43m,\u001b[49m\u001b[43m \u001b[49m\u001b[43mkwargs\u001b[49m\u001b[43m)\u001b[49m\n",
      "\u001b[36mFile \u001b[39m\u001b[32m~/Repository/SAMPA-USP/Catalysis/.venv/lib/python3.12/site-packages/botocore/context.py:123\u001b[39m, in \u001b[36mwith_current_context.<locals>.decorator.<locals>.wrapper\u001b[39m\u001b[34m(*args, **kwargs)\u001b[39m\n\u001b[32m    121\u001b[39m \u001b[38;5;28;01mif\u001b[39;00m hook:\n\u001b[32m    122\u001b[39m     hook()\n\u001b[32m--> \u001b[39m\u001b[32m123\u001b[39m \u001b[38;5;28;01mreturn\u001b[39;00m \u001b[43mfunc\u001b[49m\u001b[43m(\u001b[49m\u001b[43m*\u001b[49m\u001b[43margs\u001b[49m\u001b[43m,\u001b[49m\u001b[43m \u001b[49m\u001b[43m*\u001b[49m\u001b[43m*\u001b[49m\u001b[43mkwargs\u001b[49m\u001b[43m)\u001b[49m\n",
      "\u001b[36mFile \u001b[39m\u001b[32m~/Repository/SAMPA-USP/Catalysis/.venv/lib/python3.12/site-packages/botocore/client.py:1078\u001b[39m, in \u001b[36mBaseClient._make_api_call\u001b[39m\u001b[34m(self, operation_name, api_params)\u001b[39m\n\u001b[32m   1074\u001b[39m     error_code = request_context.get(\n\u001b[32m   1075\u001b[39m         \u001b[33m'\u001b[39m\u001b[33merror_code_override\u001b[39m\u001b[33m'\u001b[39m\n\u001b[32m   1076\u001b[39m     ) \u001b[38;5;129;01mor\u001b[39;00m error_info.get(\u001b[33m\"\u001b[39m\u001b[33mCode\u001b[39m\u001b[33m\"\u001b[39m)\n\u001b[32m   1077\u001b[39m     error_class = \u001b[38;5;28mself\u001b[39m.exceptions.from_code(error_code)\n\u001b[32m-> \u001b[39m\u001b[32m1078\u001b[39m     \u001b[38;5;28;01mraise\u001b[39;00m error_class(parsed_response, operation_name)\n\u001b[32m   1079\u001b[39m \u001b[38;5;28;01melse\u001b[39;00m:\n\u001b[32m   1080\u001b[39m     \u001b[38;5;28;01mreturn\u001b[39;00m parsed_response\n",
      "\u001b[31mValidationException\u001b[39m: An error occurred (ValidationException) when calling the CreateQuantumTask operation: [line 31] for result type probability, the shot should be between 1 and 100000 on the requested device"
     ]
    }
   ],
   "source": [
    "from sklearn.svm import SVC\n",
    "from sklearn.model_selection import LeaveOneOut\n",
    "from sklearn.preprocessing import MinMaxScaler\n",
    "from sklearn.metrics import accuracy_score\n",
    "\n",
    "# escolha do device:\n",
    "device = sv1          # simulador gerenciado (exato, rápido)\n",
    "# device = dm1        # também ok com shots=0\n",
    "# device = tn1        # usar versão \"qpu\" (shots > 0)\n",
    "# device = AwsDevice(\"arn:.../qpu/ionq/Aria-2\", aws_session=session)  # exemplo: QPU -> usar versão \"qpu\"\n",
    "\n",
    "# Se for SV1/DM1 -> use fidelity_simulator; se for TN1/QPU -> fidelity_qpu\n",
    "use_qpu_mode = (device.properties.dict().get(\"deviceType\") == \"QPU\") or (\"tn1\" in device.arn)\n",
    "\n",
    "def fidelity_dispatch(x, xp, layers=2):\n",
    "    if use_qpu_mode:\n",
    "        return fidelity_qpu(device, x, xp, layers=layers, shots=2000)\n",
    "    else:\n",
    "        return fidelity_simulator(device, x, xp, layers=layers)\n",
    "\n",
    "# … dentro do LOO:\n",
    "loo = LeaveOneOut()\n",
    "y_true, y_pred = [], []\n",
    "for tr, te in loo.split(X_raw):\n",
    "    scaler = MinMaxScaler().fit(X_raw[tr])\n",
    "    Xtr, Xte = scaler.transform(X_raw[tr]), scaler.transform(X_raw[te])\n",
    "\n",
    "    n = len(Xtr)\n",
    "    Ktr = np.zeros((n,n))\n",
    "    for i in range(n):\n",
    "        for j in range(n):\n",
    "            Ktr[i,j] = fidelity_dispatch(Xtr[i], Xtr[j], layers=2)\n",
    "\n",
    "    Kte = np.zeros((1,n))\n",
    "    for j in range(n):\n",
    "        Kte[0,j] = fidelity_dispatch(Xte[0], Xtr[j], layers=2)\n",
    "\n",
    "    clf = SVC(kernel=\"precomputed\", C=1.0)\n",
    "    clf.fit(Ktr, y[tr])\n",
    "    y_pred.append(clf.predict(Kte)[0])\n",
    "    y_true.append(y[te][0])\n",
    "\n",
    "print(\"QSVM (device =\", device.name, \") LOO acc =\", accuracy_score(y_true, y_pred))\n"
   ]
  },
  {
   "cell_type": "code",
   "execution_count": null,
   "id": "c9372c61",
   "metadata": {},
   "outputs": [],
   "source": []
  }
 ],
 "metadata": {
  "kernelspec": {
   "display_name": ".venv",
   "language": "python",
   "name": "python3"
  },
  "language_info": {
   "codemirror_mode": {
    "name": "ipython",
    "version": 3
   },
   "file_extension": ".py",
   "mimetype": "text/x-python",
   "name": "python",
   "nbconvert_exporter": "python",
   "pygments_lexer": "ipython3",
   "version": "3.12.3"
  }
 },
 "nbformat": 4,
 "nbformat_minor": 5
}
